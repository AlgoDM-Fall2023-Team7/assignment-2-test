{
  "cells": [
    {
      "cell_type": "code",
      "execution_count": null,
      "metadata": {
        "colab": {
          "base_uri": "https://localhost:8080/"
        },
        "id": "tGeAuNwxgnBt",
        "outputId": "a7e1d9f0-eb78-4ceb-932e-13ecc094bb5b"
      },
      "outputs": [
        {
          "output_type": "stream",
          "name": "stdout",
          "text": [
            "/content\n"
          ]
        }
      ],
      "source": [
        "# Base dir for this code\n",
        "import os\n",
        "base_dir = os.getcwd()\n",
        "print(base_dir)"
      ]
    },
    {
      "cell_type": "code",
      "source": [
        "#!pip uninstall Snowflake"
      ],
      "metadata": {
        "id": "ZEQ-bfuLhhC4"
      },
      "execution_count": null,
      "outputs": []
    },
    {
      "cell_type": "code",
      "source": [
        "!pip install snowflake"
      ],
      "metadata": {
        "colab": {
          "base_uri": "https://localhost:8080/"
        },
        "id": "cQWRq13fhUjJ",
        "outputId": "2f30f60b-fecb-4548-8e3a-ae0c17d698ff"
      },
      "execution_count": null,
      "outputs": [
        {
          "output_type": "stream",
          "name": "stdout",
          "text": [
            "Requirement already satisfied: snowflake in /usr/local/lib/python3.10/dist-packages (0.0.4)\n"
          ]
        }
      ]
    },
    {
      "cell_type": "code",
      "execution_count": null,
      "metadata": {
        "colab": {
          "base_uri": "https://localhost:8080/"
        },
        "id": "tfRaXLEHgnBw",
        "outputId": "f458943b-4d9f-4471-b666-7cffb3d5ec04"
      },
      "outputs": [
        {
          "output_type": "stream",
          "name": "stdout",
          "text": [
            "Requirement already satisfied: snowflake-snowpark-python==1.5.1 in /usr/local/lib/python3.10/dist-packages (1.5.1)\n",
            "Requirement already satisfied: setuptools>=40.6.0 in /usr/local/lib/python3.10/dist-packages (from snowflake-snowpark-python==1.5.1) (67.7.2)\n",
            "Requirement already satisfied: wheel in /usr/local/lib/python3.10/dist-packages (from snowflake-snowpark-python==1.5.1) (0.41.2)\n",
            "Requirement already satisfied: cloudpickle<=2.0.0,>=1.6.0 in /usr/local/lib/python3.10/dist-packages (from snowflake-snowpark-python==1.5.1) (2.0.0)\n",
            "Requirement already satisfied: snowflake-connector-python<4.0.0,>=2.7.12 in /usr/local/lib/python3.10/dist-packages (from snowflake-snowpark-python==1.5.1) (3.3.1)\n",
            "Requirement already satisfied: typing-extensions<5.0.0,>=4.1.0 in /usr/local/lib/python3.10/dist-packages (from snowflake-snowpark-python==1.5.1) (4.5.0)\n",
            "Requirement already satisfied: asn1crypto<2.0.0,>0.24.0 in /usr/local/lib/python3.10/dist-packages (from snowflake-connector-python<4.0.0,>=2.7.12->snowflake-snowpark-python==1.5.1) (1.5.1)\n",
            "Requirement already satisfied: cffi<2.0.0,>=1.9 in /usr/local/lib/python3.10/dist-packages (from snowflake-connector-python<4.0.0,>=2.7.12->snowflake-snowpark-python==1.5.1) (1.16.0)\n",
            "Requirement already satisfied: cryptography<42.0.0,>=3.1.0 in /usr/local/lib/python3.10/dist-packages (from snowflake-connector-python<4.0.0,>=2.7.12->snowflake-snowpark-python==1.5.1) (41.0.4)\n",
            "Requirement already satisfied: oscrypto<2.0.0 in /usr/local/lib/python3.10/dist-packages (from snowflake-connector-python<4.0.0,>=2.7.12->snowflake-snowpark-python==1.5.1) (1.3.0)\n",
            "Requirement already satisfied: pyOpenSSL<24.0.0,>=16.2.0 in /usr/local/lib/python3.10/dist-packages (from snowflake-connector-python<4.0.0,>=2.7.12->snowflake-snowpark-python==1.5.1) (23.2.0)\n",
            "Requirement already satisfied: pycryptodomex!=3.5.0,<4.0.0,>=3.2 in /usr/local/lib/python3.10/dist-packages (from snowflake-connector-python<4.0.0,>=2.7.12->snowflake-snowpark-python==1.5.1) (3.19.0)\n",
            "Requirement already satisfied: pyjwt<3.0.0 in /usr/lib/python3/dist-packages (from snowflake-connector-python<4.0.0,>=2.7.12->snowflake-snowpark-python==1.5.1) (2.3.0)\n",
            "Requirement already satisfied: pytz in /usr/local/lib/python3.10/dist-packages (from snowflake-connector-python<4.0.0,>=2.7.12->snowflake-snowpark-python==1.5.1) (2023.3.post1)\n",
            "Requirement already satisfied: requests<3.0.0 in /usr/local/lib/python3.10/dist-packages (from snowflake-connector-python<4.0.0,>=2.7.12->snowflake-snowpark-python==1.5.1) (2.31.0)\n",
            "Requirement already satisfied: packaging in /usr/local/lib/python3.10/dist-packages (from snowflake-connector-python<4.0.0,>=2.7.12->snowflake-snowpark-python==1.5.1) (23.2)\n",
            "Requirement already satisfied: charset-normalizer<4,>=2 in /usr/local/lib/python3.10/dist-packages (from snowflake-connector-python<4.0.0,>=2.7.12->snowflake-snowpark-python==1.5.1) (3.3.0)\n",
            "Requirement already satisfied: idna<4,>=2.5 in /usr/local/lib/python3.10/dist-packages (from snowflake-connector-python<4.0.0,>=2.7.12->snowflake-snowpark-python==1.5.1) (3.4)\n",
            "Requirement already satisfied: urllib3<1.27,>=1.21.1 in /usr/local/lib/python3.10/dist-packages (from snowflake-connector-python<4.0.0,>=2.7.12->snowflake-snowpark-python==1.5.1) (1.26.18)\n",
            "Requirement already satisfied: certifi>=2017.4.17 in /usr/local/lib/python3.10/dist-packages (from snowflake-connector-python<4.0.0,>=2.7.12->snowflake-snowpark-python==1.5.1) (2023.7.22)\n",
            "Requirement already satisfied: filelock<4,>=3.5 in /usr/local/lib/python3.10/dist-packages (from snowflake-connector-python<4.0.0,>=2.7.12->snowflake-snowpark-python==1.5.1) (3.12.4)\n",
            "Requirement already satisfied: sortedcontainers>=2.4.0 in /usr/local/lib/python3.10/dist-packages (from snowflake-connector-python<4.0.0,>=2.7.12->snowflake-snowpark-python==1.5.1) (2.4.0)\n",
            "Requirement already satisfied: platformdirs<4.0.0,>=2.6.0 in /usr/local/lib/python3.10/dist-packages (from snowflake-connector-python<4.0.0,>=2.7.12->snowflake-snowpark-python==1.5.1) (3.11.0)\n",
            "Requirement already satisfied: tomlkit in /usr/local/lib/python3.10/dist-packages (from snowflake-connector-python<4.0.0,>=2.7.12->snowflake-snowpark-python==1.5.1) (0.12.1)\n",
            "Requirement already satisfied: pycparser in /usr/local/lib/python3.10/dist-packages (from cffi<2.0.0,>=1.9->snowflake-connector-python<4.0.0,>=2.7.12->snowflake-snowpark-python==1.5.1) (2.21)\n"
          ]
        }
      ],
      "source": [
        "!pip install snowflake-snowpark-python==1.5.1"
      ]
    },
    {
      "cell_type": "code",
      "source": [
        "!pip install snowflake-ml-python"
      ],
      "metadata": {
        "colab": {
          "base_uri": "https://localhost:8080/"
        },
        "id": "iIQdSTGph9HO",
        "outputId": "ddd53045-f117-4f7b-a2ef-e60c27ef1c40"
      },
      "execution_count": null,
      "outputs": [
        {
          "output_type": "stream",
          "name": "stdout",
          "text": [
            "Requirement already satisfied: snowflake-ml-python in /usr/local/lib/python3.10/dist-packages (1.0.10)\n",
            "Requirement already satisfied: absl-py<2,>=0.15 in /usr/local/lib/python3.10/dist-packages (from snowflake-ml-python) (1.4.0)\n",
            "Requirement already satisfied: anyio<4,>=3.5.0 in /usr/local/lib/python3.10/dist-packages (from snowflake-ml-python) (3.7.1)\n",
            "Requirement already satisfied: cachetools<5,>=3.1.1 in /usr/local/lib/python3.10/dist-packages (from snowflake-ml-python) (4.2.4)\n",
            "Requirement already satisfied: cloudpickle>=2.0.0 in /usr/local/lib/python3.10/dist-packages (from snowflake-ml-python) (2.0.0)\n",
            "Requirement already satisfied: fsspec[http]<2024,>=2022.11 in /usr/local/lib/python3.10/dist-packages (from snowflake-ml-python) (2023.6.0)\n",
            "Requirement already satisfied: numpy<2,>=1.23 in /usr/local/lib/python3.10/dist-packages (from snowflake-ml-python) (1.23.5)\n",
            "Requirement already satisfied: packaging<24,>=20.9 in /usr/local/lib/python3.10/dist-packages (from snowflake-ml-python) (23.2)\n",
            "Requirement already satisfied: pandas<2,>=1.0.0 in /usr/local/lib/python3.10/dist-packages (from snowflake-ml-python) (1.5.3)\n",
            "Requirement already satisfied: pytimeparse<2,>=1.1.8 in /usr/local/lib/python3.10/dist-packages (from snowflake-ml-python) (1.1.8)\n",
            "Requirement already satisfied: pyyaml<7,>=6.0 in /usr/local/lib/python3.10/dist-packages (from snowflake-ml-python) (6.0.1)\n",
            "Requirement already satisfied: s3fs<2024,>=2022.11 in /usr/local/lib/python3.10/dist-packages (from snowflake-ml-python) (2023.6.0)\n",
            "Requirement already satisfied: scikit-learn<1.4,>=1.2.1 in /usr/local/lib/python3.10/dist-packages (from snowflake-ml-python) (1.2.2)\n",
            "Requirement already satisfied: scipy<2,>=1.9 in /usr/local/lib/python3.10/dist-packages (from snowflake-ml-python) (1.11.3)\n",
            "Requirement already satisfied: snowflake-connector-python[pandas]<4,>=3.0.4 in /usr/local/lib/python3.10/dist-packages (from snowflake-ml-python) (3.3.1)\n",
            "Requirement already satisfied: snowflake-snowpark-python<2,>=1.5.1 in /usr/local/lib/python3.10/dist-packages (from snowflake-ml-python) (1.5.1)\n",
            "Requirement already satisfied: sqlparse<1,>=0.4 in /usr/local/lib/python3.10/dist-packages (from snowflake-ml-python) (0.4.4)\n",
            "Requirement already satisfied: typing-extensions<5,>=4.1.0 in /usr/local/lib/python3.10/dist-packages (from snowflake-ml-python) (4.5.0)\n",
            "Requirement already satisfied: xgboost<2,>=1.7.3 in /usr/local/lib/python3.10/dist-packages (from snowflake-ml-python) (1.7.3)\n",
            "Requirement already satisfied: idna>=2.8 in /usr/local/lib/python3.10/dist-packages (from anyio<4,>=3.5.0->snowflake-ml-python) (3.4)\n",
            "Requirement already satisfied: sniffio>=1.1 in /usr/local/lib/python3.10/dist-packages (from anyio<4,>=3.5.0->snowflake-ml-python) (1.3.0)\n",
            "Requirement already satisfied: exceptiongroup in /usr/local/lib/python3.10/dist-packages (from anyio<4,>=3.5.0->snowflake-ml-python) (1.1.3)\n",
            "Requirement already satisfied: requests in /usr/local/lib/python3.10/dist-packages (from fsspec[http]<2024,>=2022.11->snowflake-ml-python) (2.31.0)\n",
            "Requirement already satisfied: aiohttp!=4.0.0a0,!=4.0.0a1 in /usr/local/lib/python3.10/dist-packages (from fsspec[http]<2024,>=2022.11->snowflake-ml-python) (3.8.6)\n",
            "Requirement already satisfied: python-dateutil>=2.8.1 in /usr/local/lib/python3.10/dist-packages (from pandas<2,>=1.0.0->snowflake-ml-python) (2.8.2)\n",
            "Requirement already satisfied: pytz>=2020.1 in /usr/local/lib/python3.10/dist-packages (from pandas<2,>=1.0.0->snowflake-ml-python) (2023.3.post1)\n",
            "Requirement already satisfied: aiobotocore~=2.5.0 in /usr/local/lib/python3.10/dist-packages (from s3fs<2024,>=2022.11->snowflake-ml-python) (2.5.4)\n",
            "Requirement already satisfied: joblib>=1.1.1 in /usr/local/lib/python3.10/dist-packages (from scikit-learn<1.4,>=1.2.1->snowflake-ml-python) (1.3.2)\n",
            "Requirement already satisfied: threadpoolctl>=2.0.0 in /usr/local/lib/python3.10/dist-packages (from scikit-learn<1.4,>=1.2.1->snowflake-ml-python) (3.2.0)\n",
            "Requirement already satisfied: asn1crypto<2.0.0,>0.24.0 in /usr/local/lib/python3.10/dist-packages (from snowflake-connector-python[pandas]<4,>=3.0.4->snowflake-ml-python) (1.5.1)\n",
            "Requirement already satisfied: cffi<2.0.0,>=1.9 in /usr/local/lib/python3.10/dist-packages (from snowflake-connector-python[pandas]<4,>=3.0.4->snowflake-ml-python) (1.16.0)\n",
            "Requirement already satisfied: cryptography<42.0.0,>=3.1.0 in /usr/local/lib/python3.10/dist-packages (from snowflake-connector-python[pandas]<4,>=3.0.4->snowflake-ml-python) (41.0.4)\n",
            "Requirement already satisfied: oscrypto<2.0.0 in /usr/local/lib/python3.10/dist-packages (from snowflake-connector-python[pandas]<4,>=3.0.4->snowflake-ml-python) (1.3.0)\n",
            "Requirement already satisfied: pyOpenSSL<24.0.0,>=16.2.0 in /usr/local/lib/python3.10/dist-packages (from snowflake-connector-python[pandas]<4,>=3.0.4->snowflake-ml-python) (23.2.0)\n",
            "Requirement already satisfied: pycryptodomex!=3.5.0,<4.0.0,>=3.2 in /usr/local/lib/python3.10/dist-packages (from snowflake-connector-python[pandas]<4,>=3.0.4->snowflake-ml-python) (3.19.0)\n",
            "Requirement already satisfied: pyjwt<3.0.0 in /usr/lib/python3/dist-packages (from snowflake-connector-python[pandas]<4,>=3.0.4->snowflake-ml-python) (2.3.0)\n",
            "Requirement already satisfied: charset-normalizer<4,>=2 in /usr/local/lib/python3.10/dist-packages (from snowflake-connector-python[pandas]<4,>=3.0.4->snowflake-ml-python) (3.3.0)\n",
            "Requirement already satisfied: urllib3<1.27,>=1.21.1 in /usr/local/lib/python3.10/dist-packages (from snowflake-connector-python[pandas]<4,>=3.0.4->snowflake-ml-python) (1.26.18)\n",
            "Requirement already satisfied: certifi>=2017.4.17 in /usr/local/lib/python3.10/dist-packages (from snowflake-connector-python[pandas]<4,>=3.0.4->snowflake-ml-python) (2023.7.22)\n",
            "Requirement already satisfied: filelock<4,>=3.5 in /usr/local/lib/python3.10/dist-packages (from snowflake-connector-python[pandas]<4,>=3.0.4->snowflake-ml-python) (3.12.4)\n",
            "Requirement already satisfied: sortedcontainers>=2.4.0 in /usr/local/lib/python3.10/dist-packages (from snowflake-connector-python[pandas]<4,>=3.0.4->snowflake-ml-python) (2.4.0)\n",
            "Requirement already satisfied: platformdirs<4.0.0,>=2.6.0 in /usr/local/lib/python3.10/dist-packages (from snowflake-connector-python[pandas]<4,>=3.0.4->snowflake-ml-python) (3.11.0)\n",
            "Requirement already satisfied: tomlkit in /usr/local/lib/python3.10/dist-packages (from snowflake-connector-python[pandas]<4,>=3.0.4->snowflake-ml-python) (0.12.1)\n",
            "Requirement already satisfied: pyarrow<10.1.0,>=10.0.1 in /usr/local/lib/python3.10/dist-packages (from snowflake-connector-python[pandas]<4,>=3.0.4->snowflake-ml-python) (10.0.1)\n",
            "Requirement already satisfied: setuptools>=40.6.0 in /usr/local/lib/python3.10/dist-packages (from snowflake-snowpark-python<2,>=1.5.1->snowflake-ml-python) (67.7.2)\n",
            "Requirement already satisfied: wheel in /usr/local/lib/python3.10/dist-packages (from snowflake-snowpark-python<2,>=1.5.1->snowflake-ml-python) (0.41.2)\n",
            "Requirement already satisfied: botocore<1.31.18,>=1.31.17 in /usr/local/lib/python3.10/dist-packages (from aiobotocore~=2.5.0->s3fs<2024,>=2022.11->snowflake-ml-python) (1.31.17)\n",
            "Requirement already satisfied: wrapt<2.0.0,>=1.10.10 in /usr/local/lib/python3.10/dist-packages (from aiobotocore~=2.5.0->s3fs<2024,>=2022.11->snowflake-ml-python) (1.15.0)\n",
            "Requirement already satisfied: aioitertools<1.0.0,>=0.5.1 in /usr/local/lib/python3.10/dist-packages (from aiobotocore~=2.5.0->s3fs<2024,>=2022.11->snowflake-ml-python) (0.11.0)\n",
            "Requirement already satisfied: attrs>=17.3.0 in /usr/local/lib/python3.10/dist-packages (from aiohttp!=4.0.0a0,!=4.0.0a1->fsspec[http]<2024,>=2022.11->snowflake-ml-python) (23.1.0)\n",
            "Requirement already satisfied: multidict<7.0,>=4.5 in /usr/local/lib/python3.10/dist-packages (from aiohttp!=4.0.0a0,!=4.0.0a1->fsspec[http]<2024,>=2022.11->snowflake-ml-python) (6.0.4)\n",
            "Requirement already satisfied: async-timeout<5.0,>=4.0.0a3 in /usr/local/lib/python3.10/dist-packages (from aiohttp!=4.0.0a0,!=4.0.0a1->fsspec[http]<2024,>=2022.11->snowflake-ml-python) (4.0.3)\n",
            "Requirement already satisfied: yarl<2.0,>=1.0 in /usr/local/lib/python3.10/dist-packages (from aiohttp!=4.0.0a0,!=4.0.0a1->fsspec[http]<2024,>=2022.11->snowflake-ml-python) (1.9.2)\n",
            "Requirement already satisfied: frozenlist>=1.1.1 in /usr/local/lib/python3.10/dist-packages (from aiohttp!=4.0.0a0,!=4.0.0a1->fsspec[http]<2024,>=2022.11->snowflake-ml-python) (1.4.0)\n",
            "Requirement already satisfied: aiosignal>=1.1.2 in /usr/local/lib/python3.10/dist-packages (from aiohttp!=4.0.0a0,!=4.0.0a1->fsspec[http]<2024,>=2022.11->snowflake-ml-python) (1.3.1)\n",
            "Requirement already satisfied: pycparser in /usr/local/lib/python3.10/dist-packages (from cffi<2.0.0,>=1.9->snowflake-connector-python[pandas]<4,>=3.0.4->snowflake-ml-python) (2.21)\n",
            "Requirement already satisfied: six>=1.5 in /usr/local/lib/python3.10/dist-packages (from python-dateutil>=2.8.1->pandas<2,>=1.0.0->snowflake-ml-python) (1.16.0)\n",
            "Requirement already satisfied: jmespath<2.0.0,>=0.7.1 in /usr/local/lib/python3.10/dist-packages (from botocore<1.31.18,>=1.31.17->aiobotocore~=2.5.0->s3fs<2024,>=2022.11->snowflake-ml-python) (1.0.1)\n"
          ]
        }
      ]
    },
    {
      "cell_type": "code",
      "source": [
        "!pip install xgboost==1.7.3"
      ],
      "metadata": {
        "colab": {
          "base_uri": "https://localhost:8080/"
        },
        "id": "BgMC4ii1eGNk",
        "outputId": "8b5c9df3-6c5a-4d58-cb95-d97efb254b5f"
      },
      "execution_count": null,
      "outputs": [
        {
          "output_type": "stream",
          "name": "stdout",
          "text": [
            "Requirement already satisfied: xgboost==1.7.3 in /usr/local/lib/python3.10/dist-packages (1.7.3)\n",
            "Requirement already satisfied: numpy in /usr/local/lib/python3.10/dist-packages (from xgboost==1.7.3) (1.23.5)\n",
            "Requirement already satisfied: scipy in /usr/local/lib/python3.10/dist-packages (from xgboost==1.7.3) (1.11.3)\n"
          ]
        }
      ]
    },
    {
      "cell_type": "code",
      "execution_count": null,
      "metadata": {
        "id": "NaZKVWTRgnBw"
      },
      "outputs": [],
      "source": [
        "import json\n",
        "import pandas as pd\n",
        "\n",
        "from snowflake.snowpark import functions as F\n",
        "from snowflake.snowpark import version as v\n",
        "from snowflake.snowpark.session import Session\n",
        "\n",
        "from snowflake.ml.modeling.xgboost import XGBRegressor\n",
        "from snowflake.ml.modeling.preprocessing import KBinsDiscretizer, OneHotEncoder\n",
        "from snowflake.ml.modeling.impute import SimpleImputer"
      ]
    },
    {
      "cell_type": "code",
      "execution_count": null,
      "metadata": {
        "id": "AbpKkWlHgnBx"
      },
      "outputs": [],
      "source": [
        "import warnings\n",
        "warnings.filterwarnings(\"ignore\")"
      ]
    },
    {
      "cell_type": "markdown",
      "metadata": {
        "id": "G724BBiugnBx"
      },
      "source": [
        "# 1.0 Snowflake Setup"
      ]
    },
    {
      "cell_type": "code",
      "execution_count": null,
      "metadata": {
        "id": "L3yU2i7fgnBy",
        "colab": {
          "base_uri": "https://localhost:8080/",
          "height": 435
        },
        "outputId": "c5eaa6c1-1fb2-4b26-bab1-2c8105d23bfe"
      },
      "outputs": [
        {
          "output_type": "error",
          "ename": "DatabaseError",
          "evalue": "ignored",
          "traceback": [
            "\u001b[0;31m---------------------------------------------------------------------------\u001b[0m",
            "\u001b[0;31mDatabaseError\u001b[0m                             Traceback (most recent call last)",
            "\u001b[0;32m<ipython-input-17-56d26a22eefa>\u001b[0m in \u001b[0;36m<cell line: 15>\u001b[0;34m()\u001b[0m\n\u001b[1;32m     13\u001b[0m }\n\u001b[1;32m     14\u001b[0m \u001b[0;34m\u001b[0m\u001b[0m\n\u001b[0;32m---> 15\u001b[0;31m \u001b[0msession\u001b[0m \u001b[0;34m=\u001b[0m \u001b[0mSession\u001b[0m\u001b[0;34m.\u001b[0m\u001b[0mbuilder\u001b[0m\u001b[0;34m.\u001b[0m\u001b[0mconfigs\u001b[0m\u001b[0;34m(\u001b[0m\u001b[0mCONNECTION_PARAMETERS\u001b[0m\u001b[0;34m)\u001b[0m\u001b[0;34m.\u001b[0m\u001b[0mcreate\u001b[0m\u001b[0;34m(\u001b[0m\u001b[0;34m)\u001b[0m\u001b[0;34m\u001b[0m\u001b[0;34m\u001b[0m\u001b[0m\n\u001b[0m",
            "\u001b[0;32m/usr/local/lib/python3.10/dist-packages/snowflake/snowpark/session.py\u001b[0m in \u001b[0;36mcreate\u001b[0;34m(self)\u001b[0m\n\u001b[1;32m    291\u001b[0m         \u001b[0;32mdef\u001b[0m \u001b[0mcreate\u001b[0m\u001b[0;34m(\u001b[0m\u001b[0mself\u001b[0m\u001b[0;34m)\u001b[0m \u001b[0;34m->\u001b[0m \u001b[0;34m\"Session\"\u001b[0m\u001b[0;34m:\u001b[0m\u001b[0;34m\u001b[0m\u001b[0;34m\u001b[0m\u001b[0m\n\u001b[1;32m    292\u001b[0m             \u001b[0;34m\"\"\"Creates a new Session.\"\"\"\u001b[0m\u001b[0;34m\u001b[0m\u001b[0;34m\u001b[0m\u001b[0m\n\u001b[0;32m--> 293\u001b[0;31m             \u001b[0msession\u001b[0m \u001b[0;34m=\u001b[0m \u001b[0mself\u001b[0m\u001b[0;34m.\u001b[0m\u001b[0m_create_internal\u001b[0m\u001b[0;34m(\u001b[0m\u001b[0mself\u001b[0m\u001b[0;34m.\u001b[0m\u001b[0m_options\u001b[0m\u001b[0;34m.\u001b[0m\u001b[0mget\u001b[0m\u001b[0;34m(\u001b[0m\u001b[0;34m\"connection\"\u001b[0m\u001b[0;34m)\u001b[0m\u001b[0;34m)\u001b[0m\u001b[0;34m\u001b[0m\u001b[0;34m\u001b[0m\u001b[0m\n\u001b[0m\u001b[1;32m    294\u001b[0m             \u001b[0;32mreturn\u001b[0m \u001b[0msession\u001b[0m\u001b[0;34m\u001b[0m\u001b[0;34m\u001b[0m\u001b[0m\n\u001b[1;32m    295\u001b[0m \u001b[0;34m\u001b[0m\u001b[0m\n",
            "\u001b[0;32m/usr/local/lib/python3.10/dist-packages/snowflake/snowpark/session.py\u001b[0m in \u001b[0;36m_create_internal\u001b[0;34m(self, conn)\u001b[0m\n\u001b[1;32m    311\u001b[0m                 \u001b[0mself\u001b[0m\u001b[0;34m.\u001b[0m\u001b[0m_options\u001b[0m\u001b[0;34m[\u001b[0m\u001b[0;34m\"paramstyle\"\u001b[0m\u001b[0;34m]\u001b[0m \u001b[0;34m=\u001b[0m \u001b[0;34m\"qmark\"\u001b[0m\u001b[0;34m\u001b[0m\u001b[0;34m\u001b[0m\u001b[0m\n\u001b[1;32m    312\u001b[0m             new_session = Session(\n\u001b[0;32m--> 313\u001b[0;31m                 \u001b[0mServerConnection\u001b[0m\u001b[0;34m(\u001b[0m\u001b[0;34m{\u001b[0m\u001b[0;34m}\u001b[0m\u001b[0;34m,\u001b[0m \u001b[0mconn\u001b[0m\u001b[0;34m)\u001b[0m \u001b[0;32mif\u001b[0m \u001b[0mconn\u001b[0m \u001b[0;32melse\u001b[0m \u001b[0mServerConnection\u001b[0m\u001b[0;34m(\u001b[0m\u001b[0mself\u001b[0m\u001b[0;34m.\u001b[0m\u001b[0m_options\u001b[0m\u001b[0;34m)\u001b[0m\u001b[0;34m,\u001b[0m\u001b[0;34m\u001b[0m\u001b[0;34m\u001b[0m\u001b[0m\n\u001b[0m\u001b[1;32m    314\u001b[0m                 \u001b[0mself\u001b[0m\u001b[0;34m.\u001b[0m\u001b[0m_options\u001b[0m\u001b[0;34m,\u001b[0m\u001b[0;34m\u001b[0m\u001b[0;34m\u001b[0m\u001b[0m\n\u001b[1;32m    315\u001b[0m             )\n",
            "\u001b[0;32m/usr/local/lib/python3.10/dist-packages/snowflake/snowpark/_internal/server_connection.py\u001b[0m in \u001b[0;36m__init__\u001b[0;34m(self, options, conn)\u001b[0m\n\u001b[1;32m    134\u001b[0m         \u001b[0mself\u001b[0m\u001b[0;34m.\u001b[0m\u001b[0m_lower_case_parameters\u001b[0m \u001b[0;34m=\u001b[0m \u001b[0;34m{\u001b[0m\u001b[0mk\u001b[0m\u001b[0;34m.\u001b[0m\u001b[0mlower\u001b[0m\u001b[0;34m(\u001b[0m\u001b[0;34m)\u001b[0m\u001b[0;34m:\u001b[0m \u001b[0mv\u001b[0m \u001b[0;32mfor\u001b[0m \u001b[0mk\u001b[0m\u001b[0;34m,\u001b[0m \u001b[0mv\u001b[0m \u001b[0;32min\u001b[0m \u001b[0moptions\u001b[0m\u001b[0;34m.\u001b[0m\u001b[0mitems\u001b[0m\u001b[0;34m(\u001b[0m\u001b[0;34m)\u001b[0m\u001b[0;34m}\u001b[0m\u001b[0;34m\u001b[0m\u001b[0;34m\u001b[0m\u001b[0m\n\u001b[1;32m    135\u001b[0m         \u001b[0mself\u001b[0m\u001b[0;34m.\u001b[0m\u001b[0m_add_application_name\u001b[0m\u001b[0;34m(\u001b[0m\u001b[0;34m)\u001b[0m\u001b[0;34m\u001b[0m\u001b[0;34m\u001b[0m\u001b[0m\n\u001b[0;32m--> 136\u001b[0;31m         \u001b[0mself\u001b[0m\u001b[0;34m.\u001b[0m\u001b[0m_conn\u001b[0m \u001b[0;34m=\u001b[0m \u001b[0mconn\u001b[0m \u001b[0;32mif\u001b[0m \u001b[0mconn\u001b[0m \u001b[0;32melse\u001b[0m \u001b[0mconnect\u001b[0m\u001b[0;34m(\u001b[0m\u001b[0;34m**\u001b[0m\u001b[0mself\u001b[0m\u001b[0;34m.\u001b[0m\u001b[0m_lower_case_parameters\u001b[0m\u001b[0;34m)\u001b[0m\u001b[0;34m\u001b[0m\u001b[0;34m\u001b[0m\u001b[0m\n\u001b[0m\u001b[1;32m    137\u001b[0m         \u001b[0;32mif\u001b[0m \u001b[0;34m\"password\"\u001b[0m \u001b[0;32min\u001b[0m \u001b[0mself\u001b[0m\u001b[0;34m.\u001b[0m\u001b[0m_lower_case_parameters\u001b[0m\u001b[0;34m:\u001b[0m\u001b[0;34m\u001b[0m\u001b[0;34m\u001b[0m\u001b[0m\n\u001b[1;32m    138\u001b[0m             \u001b[0mself\u001b[0m\u001b[0;34m.\u001b[0m\u001b[0m_lower_case_parameters\u001b[0m\u001b[0;34m[\u001b[0m\u001b[0;34m\"password\"\u001b[0m\u001b[0;34m]\u001b[0m \u001b[0;34m=\u001b[0m \u001b[0;32mNone\u001b[0m\u001b[0;34m\u001b[0m\u001b[0;34m\u001b[0m\u001b[0m\n",
            "\u001b[0;32m/usr/local/lib/python3.10/dist-packages/snowflake/connector/__init__.py\u001b[0m in \u001b[0;36mConnect\u001b[0;34m(**kwargs)\u001b[0m\n\u001b[1;32m     52\u001b[0m \u001b[0;34m@\u001b[0m\u001b[0mwraps\u001b[0m\u001b[0;34m(\u001b[0m\u001b[0mSnowflakeConnection\u001b[0m\u001b[0;34m.\u001b[0m\u001b[0m__init__\u001b[0m\u001b[0;34m)\u001b[0m\u001b[0;34m\u001b[0m\u001b[0;34m\u001b[0m\u001b[0m\n\u001b[1;32m     53\u001b[0m \u001b[0;32mdef\u001b[0m \u001b[0mConnect\u001b[0m\u001b[0;34m(\u001b[0m\u001b[0;34m**\u001b[0m\u001b[0mkwargs\u001b[0m\u001b[0;34m)\u001b[0m \u001b[0;34m->\u001b[0m \u001b[0mSnowflakeConnection\u001b[0m\u001b[0;34m:\u001b[0m\u001b[0;34m\u001b[0m\u001b[0;34m\u001b[0m\u001b[0m\n\u001b[0;32m---> 54\u001b[0;31m     \u001b[0;32mreturn\u001b[0m \u001b[0mSnowflakeConnection\u001b[0m\u001b[0;34m(\u001b[0m\u001b[0;34m**\u001b[0m\u001b[0mkwargs\u001b[0m\u001b[0;34m)\u001b[0m\u001b[0;34m\u001b[0m\u001b[0;34m\u001b[0m\u001b[0m\n\u001b[0m\u001b[1;32m     55\u001b[0m \u001b[0;34m\u001b[0m\u001b[0m\n\u001b[1;32m     56\u001b[0m \u001b[0;34m\u001b[0m\u001b[0m\n",
            "\u001b[0;32m/usr/local/lib/python3.10/dist-packages/snowflake/connector/connection.py\u001b[0m in \u001b[0;36m__init__\u001b[0;34m(self, connection_name, connections_file_path, **kwargs)\u001b[0m\n\u001b[1;32m    380\u001b[0m             \u001b[0msnowflake\u001b[0m\u001b[0;34m.\u001b[0m\u001b[0mconnector\u001b[0m\u001b[0;34m.\u001b[0m\u001b[0mresult_batch\u001b[0m\u001b[0;34m.\u001b[0m\u001b[0m_create_nanoarrow_iterator\u001b[0m\u001b[0;34m\u001b[0m\u001b[0;34m\u001b[0m\u001b[0m\n\u001b[1;32m    381\u001b[0m         )\n\u001b[0;32m--> 382\u001b[0;31m         \u001b[0mself\u001b[0m\u001b[0;34m.\u001b[0m\u001b[0mconnect\u001b[0m\u001b[0;34m(\u001b[0m\u001b[0;34m**\u001b[0m\u001b[0mkwargs\u001b[0m\u001b[0;34m)\u001b[0m\u001b[0;34m\u001b[0m\u001b[0;34m\u001b[0m\u001b[0m\n\u001b[0m\u001b[1;32m    383\u001b[0m         \u001b[0mself\u001b[0m\u001b[0;34m.\u001b[0m\u001b[0m_telemetry\u001b[0m \u001b[0;34m=\u001b[0m \u001b[0mTelemetryClient\u001b[0m\u001b[0;34m(\u001b[0m\u001b[0mself\u001b[0m\u001b[0;34m.\u001b[0m\u001b[0m_rest\u001b[0m\u001b[0;34m)\u001b[0m\u001b[0;34m\u001b[0m\u001b[0;34m\u001b[0m\u001b[0m\n\u001b[1;32m    384\u001b[0m \u001b[0;34m\u001b[0m\u001b[0m\n",
            "\u001b[0;32m/usr/local/lib/python3.10/dist-packages/snowflake/connector/connection.py\u001b[0m in \u001b[0;36mconnect\u001b[0;34m(self, **kwargs)\u001b[0m\n\u001b[1;32m    660\u001b[0m                     \u001b[0;32mraise\u001b[0m \u001b[0mException\u001b[0m\u001b[0;34m(\u001b[0m\u001b[0mstr\u001b[0m\u001b[0;34m(\u001b[0m\u001b[0mexceptions_dict\u001b[0m\u001b[0;34m)\u001b[0m\u001b[0;34m)\u001b[0m\u001b[0;34m\u001b[0m\u001b[0;34m\u001b[0m\u001b[0m\n\u001b[1;32m    661\u001b[0m         \u001b[0;32melse\u001b[0m\u001b[0;34m:\u001b[0m\u001b[0;34m\u001b[0m\u001b[0;34m\u001b[0m\u001b[0m\n\u001b[0;32m--> 662\u001b[0;31m             \u001b[0mself\u001b[0m\u001b[0;34m.\u001b[0m\u001b[0m__open_connection\u001b[0m\u001b[0;34m(\u001b[0m\u001b[0;34m)\u001b[0m\u001b[0;34m\u001b[0m\u001b[0;34m\u001b[0m\u001b[0m\n\u001b[0m\u001b[1;32m    663\u001b[0m \u001b[0;34m\u001b[0m\u001b[0m\n\u001b[1;32m    664\u001b[0m     \u001b[0;32mdef\u001b[0m \u001b[0mclose\u001b[0m\u001b[0;34m(\u001b[0m\u001b[0mself\u001b[0m\u001b[0;34m,\u001b[0m \u001b[0mretry\u001b[0m\u001b[0;34m:\u001b[0m \u001b[0mbool\u001b[0m \u001b[0;34m=\u001b[0m \u001b[0;32mTrue\u001b[0m\u001b[0;34m)\u001b[0m \u001b[0;34m->\u001b[0m \u001b[0;32mNone\u001b[0m\u001b[0;34m:\u001b[0m\u001b[0;34m\u001b[0m\u001b[0;34m\u001b[0m\u001b[0m\n",
            "\u001b[0;32m/usr/local/lib/python3.10/dist-packages/snowflake/connector/connection.py\u001b[0m in \u001b[0;36m__open_connection\u001b[0;34m(self)\u001b[0m\n\u001b[1;32m    933\u001b[0m             \u001b[0mself\u001b[0m\u001b[0;34m.\u001b[0m\u001b[0mauth_class\u001b[0m \u001b[0;34m=\u001b[0m \u001b[0mAuthByOkta\u001b[0m\u001b[0;34m(\u001b[0m\u001b[0mapplication\u001b[0m\u001b[0;34m=\u001b[0m\u001b[0mself\u001b[0m\u001b[0;34m.\u001b[0m\u001b[0mapplication\u001b[0m\u001b[0;34m)\u001b[0m\u001b[0;34m\u001b[0m\u001b[0;34m\u001b[0m\u001b[0m\n\u001b[1;32m    934\u001b[0m \u001b[0;34m\u001b[0m\u001b[0m\n\u001b[0;32m--> 935\u001b[0;31m         \u001b[0mself\u001b[0m\u001b[0;34m.\u001b[0m\u001b[0mauthenticate_with_retry\u001b[0m\u001b[0;34m(\u001b[0m\u001b[0mself\u001b[0m\u001b[0;34m.\u001b[0m\u001b[0mauth_class\u001b[0m\u001b[0;34m)\u001b[0m\u001b[0;34m\u001b[0m\u001b[0;34m\u001b[0m\u001b[0m\n\u001b[0m\u001b[1;32m    936\u001b[0m \u001b[0;34m\u001b[0m\u001b[0m\n\u001b[1;32m    937\u001b[0m         \u001b[0mself\u001b[0m\u001b[0;34m.\u001b[0m\u001b[0m_password\u001b[0m \u001b[0;34m=\u001b[0m \u001b[0;32mNone\u001b[0m  \u001b[0;31m# ensure password won't persist\u001b[0m\u001b[0;34m\u001b[0m\u001b[0;34m\u001b[0m\u001b[0m\n",
            "\u001b[0;32m/usr/local/lib/python3.10/dist-packages/snowflake/connector/connection.py\u001b[0m in \u001b[0;36mauthenticate_with_retry\u001b[0;34m(self, auth_instance)\u001b[0m\n\u001b[1;32m   1218\u001b[0m         \u001b[0;31m# make some changes if needed before real __authenticate\u001b[0m\u001b[0;34m\u001b[0m\u001b[0;34m\u001b[0m\u001b[0m\n\u001b[1;32m   1219\u001b[0m         \u001b[0;32mtry\u001b[0m\u001b[0;34m:\u001b[0m\u001b[0;34m\u001b[0m\u001b[0;34m\u001b[0m\u001b[0m\n\u001b[0;32m-> 1220\u001b[0;31m             \u001b[0mself\u001b[0m\u001b[0;34m.\u001b[0m\u001b[0m_authenticate\u001b[0m\u001b[0;34m(\u001b[0m\u001b[0mauth_instance\u001b[0m\u001b[0;34m)\u001b[0m\u001b[0;34m\u001b[0m\u001b[0;34m\u001b[0m\u001b[0m\n\u001b[0m\u001b[1;32m   1221\u001b[0m         \u001b[0;32mexcept\u001b[0m \u001b[0mReauthenticationRequest\u001b[0m \u001b[0;32mas\u001b[0m \u001b[0mex\u001b[0m\u001b[0;34m:\u001b[0m\u001b[0;34m\u001b[0m\u001b[0;34m\u001b[0m\u001b[0m\n\u001b[1;32m   1222\u001b[0m             \u001b[0;31m# cached id_token expiration error, we have cleaned id_token and try to authenticate again\u001b[0m\u001b[0;34m\u001b[0m\u001b[0;34m\u001b[0m\u001b[0m\n",
            "\u001b[0;32m/usr/local/lib/python3.10/dist-packages/snowflake/connector/connection.py\u001b[0m in \u001b[0;36m_authenticate\u001b[0;34m(self, auth_instance)\u001b[0m\n\u001b[1;32m   1244\u001b[0m         \u001b[0mauth\u001b[0m \u001b[0;34m=\u001b[0m \u001b[0mAuth\u001b[0m\u001b[0;34m(\u001b[0m\u001b[0mself\u001b[0m\u001b[0;34m.\u001b[0m\u001b[0mrest\u001b[0m\u001b[0;34m)\u001b[0m\u001b[0;34m\u001b[0m\u001b[0;34m\u001b[0m\u001b[0m\n\u001b[1;32m   1245\u001b[0m         \u001b[0;32mtry\u001b[0m\u001b[0;34m:\u001b[0m\u001b[0;34m\u001b[0m\u001b[0;34m\u001b[0m\u001b[0m\n\u001b[0;32m-> 1246\u001b[0;31m             auth.authenticate(\n\u001b[0m\u001b[1;32m   1247\u001b[0m                 \u001b[0mauth_instance\u001b[0m\u001b[0;34m=\u001b[0m\u001b[0mauth_instance\u001b[0m\u001b[0;34m,\u001b[0m\u001b[0;34m\u001b[0m\u001b[0;34m\u001b[0m\u001b[0m\n\u001b[1;32m   1248\u001b[0m                 \u001b[0maccount\u001b[0m\u001b[0;34m=\u001b[0m\u001b[0mself\u001b[0m\u001b[0;34m.\u001b[0m\u001b[0maccount\u001b[0m\u001b[0;34m,\u001b[0m\u001b[0;34m\u001b[0m\u001b[0;34m\u001b[0m\u001b[0m\n",
            "\u001b[0;32m/usr/local/lib/python3.10/dist-packages/snowflake/connector/auth/_auth.py\u001b[0m in \u001b[0;36mauthenticate\u001b[0;34m(self, auth_instance, account, user, database, schema, warehouse, role, passcode, passcode_in_password, mfa_callback, password_callback, session_parameters, timeout)\u001b[0m\n\u001b[1;32m    398\u001b[0m             \u001b[0;32mif\u001b[0m \u001b[0misinstance\u001b[0m\u001b[0;34m(\u001b[0m\u001b[0mauth_instance\u001b[0m\u001b[0;34m,\u001b[0m \u001b[0mAuthByUsrPwdMfa\u001b[0m\u001b[0;34m)\u001b[0m\u001b[0;34m:\u001b[0m\u001b[0;34m\u001b[0m\u001b[0;34m\u001b[0m\u001b[0m\n\u001b[1;32m    399\u001b[0m                 \u001b[0mdelete_temporary_credential\u001b[0m\u001b[0;34m(\u001b[0m\u001b[0mself\u001b[0m\u001b[0;34m.\u001b[0m\u001b[0m_rest\u001b[0m\u001b[0;34m.\u001b[0m\u001b[0m_host\u001b[0m\u001b[0;34m,\u001b[0m \u001b[0muser\u001b[0m\u001b[0;34m,\u001b[0m \u001b[0mMFA_TOKEN\u001b[0m\u001b[0;34m)\u001b[0m\u001b[0;34m\u001b[0m\u001b[0;34m\u001b[0m\u001b[0m\n\u001b[0;32m--> 400\u001b[0;31m             Error.errorhandler_wrapper(\n\u001b[0m\u001b[1;32m    401\u001b[0m                 \u001b[0mself\u001b[0m\u001b[0;34m.\u001b[0m\u001b[0m_rest\u001b[0m\u001b[0;34m.\u001b[0m\u001b[0m_connection\u001b[0m\u001b[0;34m,\u001b[0m\u001b[0;34m\u001b[0m\u001b[0;34m\u001b[0m\u001b[0m\n\u001b[1;32m    402\u001b[0m                 \u001b[0;32mNone\u001b[0m\u001b[0;34m,\u001b[0m\u001b[0;34m\u001b[0m\u001b[0;34m\u001b[0m\u001b[0m\n",
            "\u001b[0;32m/usr/local/lib/python3.10/dist-packages/snowflake/connector/errors.py\u001b[0m in \u001b[0;36merrorhandler_wrapper\u001b[0;34m(connection, cursor, error_class, error_value)\u001b[0m\n\u001b[1;32m    288\u001b[0m         \"\"\"\n\u001b[1;32m    289\u001b[0m \u001b[0;34m\u001b[0m\u001b[0m\n\u001b[0;32m--> 290\u001b[0;31m         handed_over = Error.hand_to_other_handler(\n\u001b[0m\u001b[1;32m    291\u001b[0m             \u001b[0mconnection\u001b[0m\u001b[0;34m,\u001b[0m\u001b[0;34m\u001b[0m\u001b[0;34m\u001b[0m\u001b[0m\n\u001b[1;32m    292\u001b[0m             \u001b[0mcursor\u001b[0m\u001b[0;34m,\u001b[0m\u001b[0;34m\u001b[0m\u001b[0;34m\u001b[0m\u001b[0m\n",
            "\u001b[0;32m/usr/local/lib/python3.10/dist-packages/snowflake/connector/errors.py\u001b[0m in \u001b[0;36mhand_to_other_handler\u001b[0;34m(connection, cursor, error_class, error_value)\u001b[0m\n\u001b[1;32m    346\u001b[0m             \u001b[0;32mreturn\u001b[0m \u001b[0;32mTrue\u001b[0m\u001b[0;34m\u001b[0m\u001b[0;34m\u001b[0m\u001b[0m\n\u001b[1;32m    347\u001b[0m         \u001b[0;32melif\u001b[0m \u001b[0mconnection\u001b[0m \u001b[0;32mis\u001b[0m \u001b[0;32mnot\u001b[0m \u001b[0;32mNone\u001b[0m\u001b[0;34m:\u001b[0m\u001b[0;34m\u001b[0m\u001b[0;34m\u001b[0m\u001b[0m\n\u001b[0;32m--> 348\u001b[0;31m             \u001b[0mconnection\u001b[0m\u001b[0;34m.\u001b[0m\u001b[0merrorhandler\u001b[0m\u001b[0;34m(\u001b[0m\u001b[0mconnection\u001b[0m\u001b[0;34m,\u001b[0m \u001b[0mcursor\u001b[0m\u001b[0;34m,\u001b[0m \u001b[0merror_class\u001b[0m\u001b[0;34m,\u001b[0m \u001b[0merror_value\u001b[0m\u001b[0;34m)\u001b[0m\u001b[0;34m\u001b[0m\u001b[0;34m\u001b[0m\u001b[0m\n\u001b[0m\u001b[1;32m    349\u001b[0m             \u001b[0;32mreturn\u001b[0m \u001b[0;32mTrue\u001b[0m\u001b[0;34m\u001b[0m\u001b[0;34m\u001b[0m\u001b[0m\n\u001b[1;32m    350\u001b[0m         \u001b[0;32mreturn\u001b[0m \u001b[0;32mFalse\u001b[0m\u001b[0;34m\u001b[0m\u001b[0;34m\u001b[0m\u001b[0m\n",
            "\u001b[0;32m/usr/local/lib/python3.10/dist-packages/snowflake/connector/errors.py\u001b[0m in \u001b[0;36mdefault_errorhandler\u001b[0;34m(connection, cursor, error_class, error_value)\u001b[0m\n\u001b[1;32m    219\u001b[0m         \u001b[0merrno\u001b[0m \u001b[0;34m=\u001b[0m \u001b[0merror_value\u001b[0m\u001b[0;34m.\u001b[0m\u001b[0mget\u001b[0m\u001b[0;34m(\u001b[0m\u001b[0;34m\"errno\"\u001b[0m\u001b[0;34m)\u001b[0m\u001b[0;34m\u001b[0m\u001b[0;34m\u001b[0m\u001b[0m\n\u001b[1;32m    220\u001b[0m         \u001b[0mdone_format_msg\u001b[0m \u001b[0;34m=\u001b[0m \u001b[0merror_value\u001b[0m\u001b[0;34m.\u001b[0m\u001b[0mget\u001b[0m\u001b[0;34m(\u001b[0m\u001b[0;34m\"done_format_msg\"\u001b[0m\u001b[0;34m)\u001b[0m\u001b[0;34m\u001b[0m\u001b[0;34m\u001b[0m\u001b[0m\n\u001b[0;32m--> 221\u001b[0;31m         raise error_class(\n\u001b[0m\u001b[1;32m    222\u001b[0m             \u001b[0mmsg\u001b[0m\u001b[0;34m=\u001b[0m\u001b[0merror_value\u001b[0m\u001b[0;34m.\u001b[0m\u001b[0mget\u001b[0m\u001b[0;34m(\u001b[0m\u001b[0;34m\"msg\"\u001b[0m\u001b[0;34m)\u001b[0m\u001b[0;34m,\u001b[0m\u001b[0;34m\u001b[0m\u001b[0;34m\u001b[0m\u001b[0m\n\u001b[1;32m    223\u001b[0m             \u001b[0merrno\u001b[0m\u001b[0;34m=\u001b[0m\u001b[0;32mNone\u001b[0m \u001b[0;32mif\u001b[0m \u001b[0merrno\u001b[0m \u001b[0;32mis\u001b[0m \u001b[0;32mNone\u001b[0m \u001b[0;32melse\u001b[0m \u001b[0mint\u001b[0m\u001b[0;34m(\u001b[0m\u001b[0merrno\u001b[0m\u001b[0;34m)\u001b[0m\u001b[0;34m,\u001b[0m\u001b[0;34m\u001b[0m\u001b[0;34m\u001b[0m\u001b[0m\n",
            "\u001b[0;31mDatabaseError\u001b[0m: 250001 (08001): Failed to connect to DB: gndwqae-jg68694.snowflakecomputing.com:443. Your free trial has ended and all of your virtual warehouses have been suspended. Add billing information in the Snowflake web UI to continue using the full set of Snowflake features."
          ]
        }
      ],
      "source": [
        "# Ensure that your credentials are stored in creds.json\n",
        "with open('creds.json') as f:\n",
        "    data = json.load(f)\n",
        "    USERNAME = data['user']\n",
        "    PASSWORD = data['password']\n",
        "    SF_ACCOUNT = data['account']\n",
        "    SF_WH = data['warehouse']\n",
        "\n",
        "CONNECTION_PARAMETERS = {\n",
        "   \"account\": SF_ACCOUNT,\n",
        "   \"user\": USERNAME,\n",
        "   \"password\": PASSWORD,\n",
        "}\n",
        "\n",
        "session = Session.builder.configs(CONNECTION_PARAMETERS).create()"
      ]
    },
    {
      "cell_type": "markdown",
      "metadata": {
        "id": "4VwG4zKognBy"
      },
      "source": [
        "#### Ensure that TPC-DS dataset is available in your environment."
      ]
    },
    {
      "cell_type": "code",
      "execution_count": null,
      "metadata": {
        "id": "PPTTh8PzgnBz"
      },
      "outputs": [],
      "source": [
        "session.sql('CREATE DATABASE IF NOT EXISTS tpcds_xgboost').collect()\n",
        "session.sql('CREATE SCHEMA IF NOT EXISTS tpcds_xgboost.demo').collect()\n",
        "session.sql(\"create or replace warehouse FE_AND_INFERENCE_WH with warehouse_size='3X-LARGE'\").collect()\n",
        "session.sql(\"create or replace warehouse snowpark_opt_wh with warehouse_size = 'MEDIUM' warehouse_type = 'SNOWPARK-OPTIMIZED'\").collect()\n",
        "session.sql(\"alter warehouse snowpark_opt_wh set max_concurrency_level = 1\").collect()\n",
        "session.sql(\"CREATE OR REPLACE STAGE TPCDS_XGBOOST.DEMO.ML_MODELS\").collect()\n",
        "session.use_warehouse('FE_AND_INFERENCE_WH')\n",
        "session.use_database('tpcds_xgboost')\n",
        "session.use_schema('demo')"
      ]
    },
    {
      "cell_type": "markdown",
      "metadata": {
        "id": "aWKAGFQ0gnBz"
      },
      "source": [
        "Select either 100 or 10 for the TPC-DS Dataset size to use below. See (https://docs.snowflake.com/en/user-guide/sample-data-tpcds.html)[here] for more information If you choose 100, I recommend >= 3XL warehouse."
      ]
    },
    {
      "cell_type": "code",
      "execution_count": null,
      "metadata": {
        "id": "K9B20PiqgnBz"
      },
      "outputs": [],
      "source": [
        "TPCDS_SIZE_PARAM = 10\n",
        "SNOWFLAKE_SAMPLE_DB = 'SNOWFLAKE_SAMPLE_DATA' # Name of Snowflake Sample Database might be different...\n",
        "\n",
        "if TPCDS_SIZE_PARAM == 100:\n",
        "    TPCDS_SCHEMA = 'TPCDS_SF100TCL'\n",
        "elif TPCDS_SIZE_PARAM == 10:\n",
        "    TPCDS_SCHEMA = 'TPCDS_SF10TCL'\n",
        "else:\n",
        "    raise ValueError(\"Invalid TPCDS_SIZE_PARAM selection\")\n",
        "\n",
        "store_sales = session.table(f'{SNOWFLAKE_SAMPLE_DB}.{TPCDS_SCHEMA}.store_sales')\n",
        "catalog_sales = session.table(f'{SNOWFLAKE_SAMPLE_DB}.{TPCDS_SCHEMA}.catalog_sales')\n",
        "web_sales = session.table(f'{SNOWFLAKE_SAMPLE_DB}.{TPCDS_SCHEMA}.web_sales')\n",
        "date = session.table(f'{SNOWFLAKE_SAMPLE_DB}.{TPCDS_SCHEMA}.date_dim')\n",
        "dim_stores = session.table(f'{SNOWFLAKE_SAMPLE_DB}.{TPCDS_SCHEMA}.store')\n",
        "customer = session.table(f'{SNOWFLAKE_SAMPLE_DB}.{TPCDS_SCHEMA}.customer')\n",
        "address = session.table(f'{SNOWFLAKE_SAMPLE_DB}.{TPCDS_SCHEMA}.customer_address')\n",
        "demo = session.table(f'{SNOWFLAKE_SAMPLE_DB}.{TPCDS_SCHEMA}.customer_demographics')"
      ]
    },
    {
      "cell_type": "markdown",
      "metadata": {
        "id": "Y0nZrurtgnBz"
      },
      "source": [
        "# 2.0 Data Engineering\n",
        "We will aggregate sales by customer across all channels(web, store, catalogue) and join that to customer demographic data."
      ]
    },
    {
      "cell_type": "code",
      "execution_count": null,
      "metadata": {
        "id": "M2d13bsmgnBz"
      },
      "outputs": [],
      "source": [
        "store_sales_agged = store_sales.group_by('ss_customer_sk').agg(F.sum('ss_sales_price').as_('total_sales'))\n",
        "web_sales_agged = web_sales.group_by('ws_bill_customer_sk').agg(F.sum('ws_sales_price').as_('total_sales'))\n",
        "catalog_sales_agged = catalog_sales.group_by('cs_bill_customer_sk').agg(F.sum('cs_sales_price').as_('total_sales'))\n",
        "store_sales_agged = store_sales_agged.rename('ss_customer_sk', 'customer_sk')\n",
        "web_sales_agged = web_sales_agged.rename('ws_bill_customer_sk', 'customer_sk')\n",
        "catalog_sales_agged = catalog_sales_agged.rename('cs_bill_customer_sk', 'customer_sk')"
      ]
    },
    {
      "cell_type": "code",
      "execution_count": null,
      "metadata": {
        "id": "7INlJcZbgnB0"
      },
      "outputs": [],
      "source": [
        "total_sales = store_sales_agged.union_all(web_sales_agged)\n",
        "total_sales = total_sales.union_all(catalog_sales_agged)"
      ]
    },
    {
      "cell_type": "code",
      "execution_count": null,
      "metadata": {
        "id": "8hOBXMbDgnB0"
      },
      "outputs": [],
      "source": [
        "total_sales = total_sales.group_by('customer_sk').agg(F.sum('total_sales').as_('total_sales'))"
      ]
    },
    {
      "cell_type": "code",
      "execution_count": null,
      "metadata": {
        "id": "O4W5AmuDgnB1"
      },
      "outputs": [],
      "source": [
        "customer = customer.select('c_customer_sk','c_current_hdemo_sk', 'c_current_addr_sk', 'c_customer_id', 'c_birth_year')"
      ]
    },
    {
      "cell_type": "code",
      "execution_count": null,
      "metadata": {
        "id": "R-_lWablgnB1"
      },
      "outputs": [],
      "source": [
        "customer = customer.join(address.select('ca_address_sk', 'ca_zip'), customer['c_current_addr_sk'] == address['ca_address_sk'] )\n",
        "customer = customer.join(demo.select('cd_demo_sk', 'cd_gender', 'cd_marital_status', 'cd_credit_rating', 'cd_education_status', 'cd_dep_count'),\n",
        "                                customer['c_current_hdemo_sk'] == demo['cd_demo_sk'] )\n",
        "customer = customer.rename('c_customer_sk', 'customer_sk')"
      ]
    },
    {
      "cell_type": "code",
      "execution_count": null,
      "metadata": {
        "id": "VeFzmUgignB1"
      },
      "outputs": [],
      "source": [
        "customer.limit(5).to_pandas()"
      ]
    },
    {
      "cell_type": "code",
      "execution_count": null,
      "metadata": {
        "id": "LkrqFK5ZgnB1"
      },
      "outputs": [],
      "source": [
        "final_df = total_sales.join(customer, on='customer_sk')"
      ]
    },
    {
      "cell_type": "code",
      "execution_count": null,
      "metadata": {
        "id": "X9z0R6TIgnB1"
      },
      "outputs": [],
      "source": [
        "# Size of the final DF is around 95 Million.\n",
        "final_df.count()"
      ]
    },
    {
      "cell_type": "code",
      "execution_count": null,
      "metadata": {
        "id": "IrD5pm12gnB1"
      },
      "outputs": [],
      "source": [
        "session.use_database('tpcds_xgboost')\n",
        "session.use_schema('demo')\n",
        "final_df.write.mode('overwrite').save_as_table('feature_store')"
      ]
    },
    {
      "cell_type": "markdown",
      "metadata": {
        "id": "m-tWqKBLgnB2"
      },
      "source": [
        "# 3.0 Feature Engineering"
      ]
    },
    {
      "cell_type": "code",
      "execution_count": null,
      "metadata": {
        "id": "qIo42f1FgnB2"
      },
      "outputs": [],
      "source": [
        "session.use_warehouse('snowpark_opt_wh')\n",
        "session.use_database('tpcds_xgboost')\n",
        "session.use_schema('demo')"
      ]
    },
    {
      "cell_type": "code",
      "execution_count": null,
      "metadata": {
        "id": "lL7Y490vgnB2"
      },
      "outputs": [],
      "source": [
        "snowdf = session.table(\"feature_store\")\n",
        "snowdf = snowdf.drop(['CA_ZIP','CUSTOMER_SK', 'C_CURRENT_HDEMO_SK', 'C_CURRENT_ADDR_SK', 'C_CUSTOMER_ID', 'CA_ADDRESS_SK', 'CD_DEMO_SK'])"
      ]
    },
    {
      "cell_type": "code",
      "source": [
        "from snowflake.snowpark.functions import col\n",
        "\n",
        "\n",
        "\n",
        "snowdf = snowdf.withColumn(\"C_BIRTH_YEAR\", col(\"C_BIRTH_YEAR\").cast(\"float\"))\n",
        "\n",
        "snowdf = snowdf.withColumn(\"CD_DEP_COUNT\", col(\"CD_DEP_COUNT\").cast(\"float\"))"
      ],
      "metadata": {
        "id": "TjTFFMGjnT0J"
      },
      "execution_count": null,
      "outputs": []
    },
    {
      "cell_type": "markdown",
      "source": [],
      "metadata": {
        "id": "qY40cVFfnRQI"
      }
    },
    {
      "cell_type": "code",
      "execution_count": null,
      "metadata": {
        "id": "nJPHae5ZgnB2"
      },
      "outputs": [],
      "source": [
        "snowdf.limit(5).to_pandas()"
      ]
    },
    {
      "cell_type": "code",
      "execution_count": null,
      "metadata": {
        "id": "CFvandezgnB2"
      },
      "outputs": [],
      "source": [
        "cat_cols = ['CD_GENDER', 'CD_MARITAL_STATUS', 'CD_CREDIT_RATING', 'CD_EDUCATION_STATUS']\n",
        "num_cols = ['C_BIRTH_YEAR', 'CD_DEP_COUNT']"
      ]
    },
    {
      "cell_type": "markdown",
      "metadata": {
        "id": "yvSgO3c4gnB2"
      },
      "source": [
        "### 3.1 Missing Value Imputation\n",
        "\n",
        "We can use the SimpleImputer in snowflake.ml.preprocessing to replace missing values with the most frequent.\n",
        "\n",
        "```python\n",
        "# SimpleImputer in snowflake.ml.preprocessing\n",
        "from snowflake.ml.modeling.impute import SimpleImputer\n",
        "my_imputer = sfml.preprocessing.SimpleImputer(input_cols=['your_column'],\n",
        "                                output_cols=['your_column'],\n",
        "                                strategy='constant',\n",
        "                                fill_value='OTHER')\n",
        "my_imputer.fit(my_sdf)\n",
        "my_sdf = my_imputer.transform(my_sdf)\n",
        "```"
      ]
    },
    {
      "cell_type": "code",
      "execution_count": null,
      "metadata": {
        "id": "5VJkcwxPgnB2"
      },
      "outputs": [],
      "source": [
        "# Imputation of Numeric Cols\n",
        "my_imputer = SimpleImputer(input_cols= num_cols,\n",
        "                           output_cols= num_cols,\n",
        "                           strategy='median')\n",
        "sdf_prepared = my_imputer.fit(snowdf).transform(snowdf)"
      ]
    },
    {
      "cell_type": "markdown",
      "metadata": {
        "id": "NX5ue3lLgnB2"
      },
      "source": [
        "### 3.2 One-Hot Encoding of Categorical Cols"
      ]
    },
    {
      "cell_type": "code",
      "execution_count": null,
      "metadata": {
        "id": "8EP-IBcpgnB2"
      },
      "outputs": [],
      "source": [
        "# OHE of Categorical Cols\n",
        "my_ohe_encoder = OneHotEncoder(input_cols=cat_cols, output_cols=cat_cols, drop_input_cols=True)\n",
        "sdf_prepared = my_ohe_encoder.fit(sdf_prepared).transform(sdf_prepared)"
      ]
    },
    {
      "cell_type": "code",
      "execution_count": null,
      "metadata": {
        "id": "s55qpwV0gnB3"
      },
      "outputs": [],
      "source": [
        "sdf_prepared.limit(5).to_pandas()"
      ]
    },
    {
      "cell_type": "markdown",
      "metadata": {
        "id": "XMDIioJ4gnB3"
      },
      "source": [
        "### 3.3 Clean column names"
      ]
    },
    {
      "cell_type": "code",
      "execution_count": null,
      "metadata": {
        "id": "5Xe3D34DgnB3"
      },
      "outputs": [],
      "source": [
        "# Cleaning column names to make it easier for future referencing\n",
        "import re\n",
        "\n",
        "cols = sdf_prepared.columns\n",
        "for old_col in cols:\n",
        "    new_col = re.sub(r'[^a-zA-Z0-9_]', '', old_col)\n",
        "    new_col = new_col.upper()\n",
        "    sdf_prepared = sdf_prepared.withColumnRenamed(old_col, new_col)"
      ]
    },
    {
      "cell_type": "markdown",
      "metadata": {
        "id": "YDo6XMDWgnB3"
      },
      "source": [
        "# 4.0 ML Modeling"
      ]
    },
    {
      "cell_type": "code",
      "execution_count": null,
      "metadata": {
        "id": "Px8YWvA4gnB3"
      },
      "outputs": [],
      "source": [
        "# Use Snowpark Optimized Warehouse\n",
        "session.use_warehouse('snowpark_opt_wh')"
      ]
    },
    {
      "cell_type": "markdown",
      "metadata": {
        "id": "khB36PrlgnB3"
      },
      "source": [
        "### 4.1 Prepare data"
      ]
    },
    {
      "cell_type": "code",
      "execution_count": null,
      "metadata": {
        "id": "gMeDofI9gnB3"
      },
      "outputs": [],
      "source": [
        "# Prepare Data for modeling\n",
        "feature_cols = sdf_prepared.columns\n",
        "feature_cols.remove('TOTAL_SALES')\n",
        "target_col = 'TOTAL_SALES'"
      ]
    },
    {
      "cell_type": "code",
      "execution_count": null,
      "metadata": {
        "id": "kl91332agnB3"
      },
      "outputs": [],
      "source": [
        "# Save the train and test sets as time stamped tables in Snowflake\n",
        "snowdf_train, snowdf_test = sdf_prepared.random_split([0.8, 0.2], seed=82)\n",
        "snowdf_train.write.mode(\"overwrite\").save_as_table(\"tpcds_xgboost.demo.tpc_TRAIN\")\n",
        "snowdf_test.write.mode(\"overwrite\").save_as_table(\"tpcds_xgboost.demo.tpc_TEST\")"
      ]
    },
    {
      "cell_type": "markdown",
      "metadata": {
        "id": "8XMHwcrcgnB3"
      },
      "source": [
        "### 4.2 Initialize Model and Fit"
      ]
    },
    {
      "cell_type": "code",
      "execution_count": null,
      "metadata": {
        "id": "LBHDv8ICgnB9"
      },
      "outputs": [],
      "source": [
        "# Define the XGBRegressor and fit the model\n",
        "xgbmodel = XGBRegressor(random_state=123, input_cols=feature_cols, label_cols=target_col, output_cols='PREDICTION')\n",
        "xgbmodel.fit(snowdf_train)"
      ]
    },
    {
      "cell_type": "markdown",
      "metadata": {
        "id": "NG4WkPUJgnB9"
      },
      "source": [
        "### 4.3 Predict on test set"
      ]
    },
    {
      "cell_type": "code",
      "execution_count": null,
      "metadata": {
        "id": "K3m-DswBgnB9"
      },
      "outputs": [],
      "source": [
        "# Score the data using the fitted xgbmodel\n",
        "sdf_scored = xgbmodel.predict(snowdf_test)"
      ]
    },
    {
      "cell_type": "code",
      "execution_count": null,
      "metadata": {
        "id": "LuPL7J7vgnB9"
      },
      "outputs": [],
      "source": [
        "sdf_scored.limit(5).to_pandas()"
      ]
    },
    {
      "cell_type": "markdown",
      "metadata": {
        "id": "s3IP1MwMgnB9"
      },
      "source": [
        "### 4.4 Save predictions in Snowflake"
      ]
    },
    {
      "cell_type": "code",
      "execution_count": null,
      "metadata": {
        "id": "9UoLa1rKgnB9"
      },
      "outputs": [],
      "source": [
        "session.use_database('tpcds_xgboost')\n",
        "session.use_schema('demo')\n",
        "sdf_scored.write.mode('overwrite').save_as_table('predictions')"
      ]
    },
    {
      "cell_type": "markdown",
      "metadata": {
        "id": "nwsEOy1kgnB9"
      },
      "source": [
        "# 5.0 Deploying trained model as UDF for future usage\n",
        "\n",
        "Steps to follow-\n",
        "1. Get model in your local environment\n",
        "2. Save the file in your local env. as .joblib file\n",
        "3. Upload the file to Snowflake stage\n",
        "4. Create UDF using model in stage\n",
        "\n",
        "We can use `to_xgboost()` in order to get the actual xgboost model object which gives us access to all its attributes."
      ]
    },
    {
      "cell_type": "markdown",
      "metadata": {
        "id": "1zYWqCrdgnB9"
      },
      "source": [
        "### Creating sample dataset for quick predictions"
      ]
    },
    {
      "cell_type": "code",
      "execution_count": null,
      "metadata": {
        "id": "FdU__b0HgnB-"
      },
      "outputs": [],
      "source": [
        "snowdf_test = session.table('tpc_TEST')\n",
        "# Predicting with sample dataset\n",
        "sample_data = snowdf_test.limit(100)\n",
        "sample_data.write.mode(\"overwrite\").save_as_table(\"temp_test\")"
      ]
    },
    {
      "cell_type": "code",
      "execution_count": null,
      "metadata": {
        "id": "pvBATOyggnB-"
      },
      "outputs": [],
      "source": [
        "test_sdf = session.table('temp_test')"
      ]
    },
    {
      "cell_type": "markdown",
      "metadata": {
        "id": "fvcFAfU6gnB-"
      },
      "source": [
        "### 5.1 Prepare model to convert to UDF\n",
        "1. Get model in your local environment\n",
        "2. Save the file in your local env. as .joblib file\n",
        "3. Upload the file to Snowflake stage"
      ]
    },
    {
      "cell_type": "code",
      "execution_count": null,
      "metadata": {
        "id": "3ej3dLxWgnB-"
      },
      "outputs": [],
      "source": [
        "import joblib\n",
        "import cachetools"
      ]
    },
    {
      "cell_type": "code",
      "execution_count": null,
      "metadata": {
        "id": "ARKiQ7_MgnB-"
      },
      "outputs": [],
      "source": [
        "xgb_file = xgbmodel.to_xgboost()\n",
        "xgb_file"
      ]
    },
    {
      "cell_type": "code",
      "execution_count": null,
      "metadata": {
        "id": "X13b23p2gnB-"
      },
      "outputs": [],
      "source": [
        "MODEL_FILE = 'model.joblib.gz'\n",
        "joblib.dump(xgb_file, MODEL_FILE) # we are just pickling it locally first"
      ]
    },
    {
      "cell_type": "code",
      "execution_count": null,
      "metadata": {
        "id": "4bNIcwaDgnB-"
      },
      "outputs": [],
      "source": [
        "# You can also save the pickled object into the stage we created earlier\n",
        "session.file.put(MODEL_FILE, \"@ML_MODELS\", auto_compress=False, overwrite=True)"
      ]
    },
    {
      "cell_type": "markdown",
      "metadata": {
        "id": "rSnDn5u4gnB-"
      },
      "source": [
        "### 5.2 Create UDF for future reference\n"
      ]
    },
    {
      "cell_type": "code",
      "execution_count": null,
      "metadata": {
        "id": "EgjygmabgnB-"
      },
      "outputs": [],
      "source": [
        "from snowflake.snowpark.functions import udf\n",
        "import snowflake.snowpark.types as T"
      ]
    },
    {
      "cell_type": "code",
      "execution_count": null,
      "metadata": {
        "id": "3i0eEXiugnB-"
      },
      "outputs": [],
      "source": [
        "# Define a simple scoring function\n",
        "from cachetools import cached\n",
        "\n",
        "@cached(cache={})\n",
        "def load_model(model_path: str) -> object:\n",
        "    from joblib import load\n",
        "    model = load(model_path)\n",
        "    return model\n",
        "\n",
        "def udf_score_xgboost_model_vec_cached(df: pd.DataFrame) -> pd.Series:\n",
        "    import os\n",
        "    import sys\n",
        "    # file-dependencies of UDFs are available in snowflake_import_directory\n",
        "    IMPORT_DIRECTORY_NAME = \"snowflake_import_directory\"\n",
        "    import_dir = sys._xoptions[IMPORT_DIRECTORY_NAME]\n",
        "    model_name = 'model.joblib.gz'\n",
        "    model = load_model(import_dir+model_name)\n",
        "    df.columns = feature_cols\n",
        "    scored_data = pd.Series(model.predict(df))\n",
        "    return scored_data"
      ]
    },
    {
      "cell_type": "code",
      "execution_count": null,
      "metadata": {
        "id": "LBPacwZmgnB_"
      },
      "outputs": [],
      "source": [
        "# Register UDF\n",
        "udf_clv = session.udf.register(func=udf_score_xgboost_model_vec_cached,\n",
        "                               name=\"TPCDS_PREDICT_CLV\",\n",
        "                               stage_location='@ML_MODELS',\n",
        "                               input_types=[T.FloatType()]*len(feature_cols),\n",
        "                               return_type = T.FloatType(),\n",
        "                               replace=True,\n",
        "                               is_permanent=True,\n",
        "                               imports=['@ML_MODELS/model.joblib.gz'],\n",
        "                               packages=['pandas',\n",
        "                                         'xgboost',\n",
        "                                         'joblib',\n",
        "                                         'cachetools'],\n",
        "                               session=session)"
      ]
    },
    {
      "cell_type": "markdown",
      "metadata": {
        "id": "tMdaq7ltgnB_"
      },
      "source": [
        "### 5.3 Extra Stuff"
      ]
    },
    {
      "cell_type": "markdown",
      "metadata": {
        "id": "zUkMLR1DgnB_"
      },
      "source": [
        "### Inference using UDF Created right here\n",
        "\n",
        "Note we are using `udf_clv` that was defined earlier."
      ]
    },
    {
      "cell_type": "code",
      "execution_count": null,
      "metadata": {
        "id": "fui-d-9fgnB_"
      },
      "outputs": [],
      "source": [
        "test_sdf_w_preds = test_sdf.with_column('PREDICTED', udf_clv(*feature_cols))\n",
        "test_sdf_w_preds.limit(2).to_pandas()"
      ]
    },
    {
      "cell_type": "markdown",
      "metadata": {
        "id": "VHGzP6UVgnB_"
      },
      "source": [
        "### Inference using UDF Called from Snowflake\n",
        "\n",
        "Notice we are calling the UDF created in snowflake using `F.call_udf()`"
      ]
    },
    {
      "cell_type": "code",
      "execution_count": null,
      "metadata": {
        "id": "Sn0uU-5MgnB_"
      },
      "outputs": [],
      "source": [
        "test_sdf_w_preds = test_sdf.with_column('PREDICTED',F.call_udf(\"TPCDS_PREDICT_CLV\",\n",
        "                                                               [F.col(c) for c in feature_cols]))\n",
        "test_sdf_w_preds.limit(2).to_pandas()"
      ]
    },
    {
      "cell_type": "markdown",
      "metadata": {
        "id": "WpTLfTU3gnB_"
      },
      "source": [
        "# 6.0 Wrap up"
      ]
    },
    {
      "cell_type": "code",
      "execution_count": null,
      "metadata": {
        "id": "GIOENBTAgnB_"
      },
      "outputs": [],
      "source": [
        "session.close()"
      ]
    },
    {
      "cell_type": "code",
      "execution_count": null,
      "metadata": {
        "id": "H12vfWMKgnB_"
      },
      "outputs": [],
      "source": []
    }
  ],
  "metadata": {
    "kernelspec": {
      "display_name": "Python 3 (ipykernel)",
      "language": "python",
      "name": "python3"
    },
    "language_info": {
      "codemirror_mode": {
        "name": "ipython",
        "version": 3
      },
      "file_extension": ".py",
      "mimetype": "text/x-python",
      "name": "python",
      "nbconvert_exporter": "python",
      "pygments_lexer": "ipython3",
      "version": "3.9.7"
    },
    "vscode": {
      "interpreter": {
        "hash": "353961104846001ffa111d7d98923933ef13c251c8e9b3ebc563f652eb6b45f2"
      }
    },
    "colab": {
      "provenance": []
    }
  },
  "nbformat": 4,
  "nbformat_minor": 0
}