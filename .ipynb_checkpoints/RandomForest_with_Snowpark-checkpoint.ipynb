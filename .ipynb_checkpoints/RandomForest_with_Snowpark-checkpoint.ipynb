{
 "cells": [
  {
   "cell_type": "markdown",
   "id": "9f57e11c",
   "metadata": {
    "id": "9f57e11c"
   },
   "source": [
    "# Random Forest\n",
    "\n",
    "\n",
    "An ecommerce retailer is looking to use machine learning to understand its customer's online engagement with its digital outlets i.e website and app. It is trying to decide whether to focus its efforts on the mobile app experience or website. We will use Linear Regression model to see which user acitivity has the biggest impact on their likelyhood of spending more money.\n",
    "\n",
    "#### Variables of interest:\n",
    "Avg. Session Length: Average session of in-store style advice sessions.<br>\n",
    "Time on App: Average time spent on App in minutes <br>\n",
    "Time on Website: Average time spent on Website in minutes <br>\n",
    "Length of Membership: How many years the customer has been a member <br>"
   ]
  },
  {
   "cell_type": "markdown",
   "id": "c9bb1a9b",
   "metadata": {
    "id": "c9bb1a9b"
   },
   "source": [
    "### Importing necesaary packages (including Snowpark)\n",
    "If any of the packages do not exist in your Python environment you can install them using conda. Here is an example of installing seaborn visualization package\n",
    "\n",
    "*import sys <br>\n",
    "!conda install --yes --prefix {sys.prefix} seaborn*"
   ]
  },
  {
   "cell_type": "code",
   "execution_count": 1,
   "id": "N1sraePcTqOY",
   "metadata": {
    "colab": {
     "base_uri": "https://localhost:8080/"
    },
    "id": "N1sraePcTqOY",
    "outputId": "7be6ca8d-581e-44b7-d0c6-ccc9be6b2173"
   },
   "outputs": [],
   "source": [
    "#!pip uninstall Snowflake"
   ]
  },
  {
   "cell_type": "code",
   "execution_count": 2,
   "id": "T-dhfmv5TKxW",
   "metadata": {
    "colab": {
     "base_uri": "https://localhost:8080/",
     "height": 187
    },
    "id": "T-dhfmv5TKxW",
    "outputId": "66744d1d-b51a-483e-f6cc-7b933d6841d1"
   },
   "outputs": [],
   "source": [
    "#!pip install Snowflake"
   ]
  },
  {
   "cell_type": "code",
   "execution_count": 3,
   "id": "sOGgFCvqTVFy",
   "metadata": {
    "colab": {
     "base_uri": "https://localhost:8080/"
    },
    "id": "sOGgFCvqTVFy",
    "outputId": "d5787e35-4db5-41dd-ef2d-2ca1c991207f"
   },
   "outputs": [],
   "source": [
    "#!pip install snowflake-snowpark-Python"
   ]
  },
  {
   "cell_type": "code",
   "execution_count": 4,
   "id": "JlHFtZY-TeTV",
   "metadata": {
    "colab": {
     "base_uri": "https://localhost:8080/"
    },
    "id": "JlHFtZY-TeTV",
    "outputId": "5fee308a-8b2e-4143-fb62-9ec9a12fbf86"
   },
   "outputs": [],
   "source": [
    "#!pip install snowflake-connector-python"
   ]
  },
  {
   "cell_type": "code",
   "execution_count": 5,
   "id": "01f62253",
   "metadata": {
    "colab": {
     "base_uri": "https://localhost:8080/"
    },
    "id": "01f62253",
    "outputId": "ce677997-9a16-4d8c-f72d-6054d32922fe"
   },
   "outputs": [
    {
     "name": "stdout",
     "output_type": "stream",
     "text": [
      "Intel MKL WARNING: Support of Intel(R) Streaming SIMD Extensions 4.2 (Intel(R) SSE4.2) enabled only processors has been deprecated. Intel oneAPI Math Kernel Library 2025.0 will require Intel(R) Advanced Vector Extensions (Intel(R) AVX) instructions.\n",
      "Intel MKL WARNING: Support of Intel(R) Streaming SIMD Extensions 4.2 (Intel(R) SSE4.2) enabled only processors has been deprecated. Intel oneAPI Math Kernel Library 2025.0 will require Intel(R) Advanced Vector Extensions (Intel(R) AVX) instructions.\n"
     ]
    }
   ],
   "source": [
    "# Snowpark\n",
    "import json\n",
    "\n",
    "# Plotting\n",
    "import matplotlib.pyplot as plt\n",
    "import numpy as np\n",
    "# Pandas & json\n",
    "import pandas as pd\n",
    "import seaborn as sns\n",
    "from sklearn import metrics\n",
    "from sklearn.ensemble import RandomForestRegressor\n",
    "# Models\n",
    "from sklearn.model_selection import train_test_split\n",
    "from snowflake.snowpark import functions as F\n",
    "from snowflake.snowpark.functions import pandas_udf\n",
    "from snowflake.snowpark.session import Session\n",
    "from snowflake.snowpark.types import *\n",
    "from snowflake.snowpark.version import VERSION\n",
    "\n",
    "%matplotlib inline"
   ]
  },
  {
   "cell_type": "markdown",
   "id": "38042ae0",
   "metadata": {
    "id": "38042ae0"
   },
   "source": [
    "### Set context"
   ]
  },
  {
   "cell_type": "code",
   "execution_count": 6,
   "id": "5e64c81a",
   "metadata": {
    "id": "5e64c81a"
   },
   "outputs": [],
   "source": [
    "# Read credentials\n",
    "with open('creds.json') as f:\n",
    "    connection_parameters = json.load(f)\n",
    "session = Session.builder.configs(connection_parameters).create()"
   ]
  },
  {
   "cell_type": "code",
   "execution_count": 7,
   "id": "5295c5c4",
   "metadata": {
    "colab": {
     "base_uri": "https://localhost:8080/"
    },
    "id": "5295c5c4",
    "outputId": "f67385ee-6f53-4b60-a91e-d7463de0ffb4"
   },
   "outputs": [
    {
     "name": "stdout",
     "output_type": "stream",
     "text": [
      "Database                    : \"ML_SFDEMO\"\n",
      "Schema                      : \"ML_DEMO\"\n",
      "Warehouse                   : \"COMPUTE_WH\"\n",
      "Role                        : \"ACCOUNTADMIN\"\n",
      "Snowpark for Python version : 1.8.0\n"
     ]
    }
   ],
   "source": [
    "snowpark_version = VERSION\n",
    "print('Database                    : {}'.format(session.get_current_database()))\n",
    "print('Schema                      : {}'.format(session.get_current_schema()))\n",
    "print('Warehouse                   : {}'.format(session.get_current_warehouse()))\n",
    "print('Role                        : {}'.format(session.get_current_role()))\n",
    "print('Snowpark for Python version : {}.{}.{}'.format(snowpark_version[0],snowpark_version[1],snowpark_version[2]))"
   ]
  },
  {
   "cell_type": "markdown",
   "id": "abdc3c61",
   "metadata": {
    "id": "abdc3c61"
   },
   "source": [
    "### Data Loading"
   ]
  },
  {
   "cell_type": "code",
   "execution_count": 8,
   "id": "7beff24f",
   "metadata": {
    "colab": {
     "base_uri": "https://localhost:8080/",
     "height": 414
    },
    "id": "7beff24f",
    "outputId": "3b7462bd-17b1-45d7-c78e-0530fcc04cb0"
   },
   "outputs": [
    {
     "data": {
      "text/html": [
       "<div>\n",
       "<style scoped>\n",
       "    .dataframe tbody tr th:only-of-type {\n",
       "        vertical-align: middle;\n",
       "    }\n",
       "\n",
       "    .dataframe tbody tr th {\n",
       "        vertical-align: top;\n",
       "    }\n",
       "\n",
       "    .dataframe thead th {\n",
       "        text-align: right;\n",
       "    }\n",
       "</style>\n",
       "<table border=\"1\" class=\"dataframe\">\n",
       "  <thead>\n",
       "    <tr style=\"text-align: right;\">\n",
       "      <th></th>\n",
       "      <th>Email</th>\n",
       "      <th>Address</th>\n",
       "      <th>Avatar</th>\n",
       "      <th>Avg. Session Length</th>\n",
       "      <th>Time on App</th>\n",
       "      <th>Time on Website</th>\n",
       "      <th>Length of Membership</th>\n",
       "      <th>Yearly Amount Spent</th>\n",
       "    </tr>\n",
       "  </thead>\n",
       "  <tbody>\n",
       "    <tr>\n",
       "      <th>0</th>\n",
       "      <td>mstephenson@fernandez.com</td>\n",
       "      <td>835 Frank Tunnel\\nWrightmouth, MI 82180-9605</td>\n",
       "      <td>Violet</td>\n",
       "      <td>34.497268</td>\n",
       "      <td>12.655651</td>\n",
       "      <td>39.577668</td>\n",
       "      <td>4.082621</td>\n",
       "      <td>587.951054</td>\n",
       "    </tr>\n",
       "    <tr>\n",
       "      <th>1</th>\n",
       "      <td>hduke@hotmail.com</td>\n",
       "      <td>4547 Archer Common\\nDiazchester, CA 06566-8576</td>\n",
       "      <td>DarkGreen</td>\n",
       "      <td>31.926272</td>\n",
       "      <td>11.109461</td>\n",
       "      <td>37.268959</td>\n",
       "      <td>2.664034</td>\n",
       "      <td>392.204933</td>\n",
       "    </tr>\n",
       "    <tr>\n",
       "      <th>2</th>\n",
       "      <td>pallen@yahoo.com</td>\n",
       "      <td>24645 Valerie Unions Suite 582\\nCobbborough, D...</td>\n",
       "      <td>Bisque</td>\n",
       "      <td>33.000915</td>\n",
       "      <td>11.330278</td>\n",
       "      <td>37.110597</td>\n",
       "      <td>4.104543</td>\n",
       "      <td>487.547505</td>\n",
       "    </tr>\n",
       "    <tr>\n",
       "      <th>3</th>\n",
       "      <td>riverarebecca@gmail.com</td>\n",
       "      <td>1414 David Throughway\\nPort Jason, OH 22070-1220</td>\n",
       "      <td>SaddleBrown</td>\n",
       "      <td>34.305557</td>\n",
       "      <td>13.717514</td>\n",
       "      <td>36.721283</td>\n",
       "      <td>3.120179</td>\n",
       "      <td>581.852344</td>\n",
       "    </tr>\n",
       "    <tr>\n",
       "      <th>4</th>\n",
       "      <td>mstephens@davidson-herman.com</td>\n",
       "      <td>14023 Rodriguez Passage\\nPort Jacobville, PR 3...</td>\n",
       "      <td>MediumAquaMarine</td>\n",
       "      <td>33.330673</td>\n",
       "      <td>12.795189</td>\n",
       "      <td>37.536653</td>\n",
       "      <td>4.446308</td>\n",
       "      <td>599.406092</td>\n",
       "    </tr>\n",
       "  </tbody>\n",
       "</table>\n",
       "</div>"
      ],
      "text/plain": [
       "                           Email  \\\n",
       "0      mstephenson@fernandez.com   \n",
       "1              hduke@hotmail.com   \n",
       "2               pallen@yahoo.com   \n",
       "3        riverarebecca@gmail.com   \n",
       "4  mstephens@davidson-herman.com   \n",
       "\n",
       "                                             Address            Avatar  \\\n",
       "0       835 Frank Tunnel\\nWrightmouth, MI 82180-9605            Violet   \n",
       "1     4547 Archer Common\\nDiazchester, CA 06566-8576         DarkGreen   \n",
       "2  24645 Valerie Unions Suite 582\\nCobbborough, D...            Bisque   \n",
       "3   1414 David Throughway\\nPort Jason, OH 22070-1220       SaddleBrown   \n",
       "4  14023 Rodriguez Passage\\nPort Jacobville, PR 3...  MediumAquaMarine   \n",
       "\n",
       "   Avg. Session Length  Time on App  Time on Website  Length of Membership  \\\n",
       "0            34.497268    12.655651        39.577668              4.082621   \n",
       "1            31.926272    11.109461        37.268959              2.664034   \n",
       "2            33.000915    11.330278        37.110597              4.104543   \n",
       "3            34.305557    13.717514        36.721283              3.120179   \n",
       "4            33.330673    12.795189        37.536653              4.446308   \n",
       "\n",
       "   Yearly Amount Spent  \n",
       "0           587.951054  \n",
       "1           392.204933  \n",
       "2           487.547505  \n",
       "3           581.852344  \n",
       "4           599.406092  "
      ]
     },
     "execution_count": 8,
     "metadata": {},
     "output_type": "execute_result"
    }
   ],
   "source": [
    "customers = pd.read_csv(\"EcommerceCustomers.csv\")\n",
    "customers.head()"
   ]
  },
  {
   "cell_type": "code",
   "execution_count": 9,
   "id": "61ad76a4",
   "metadata": {
    "id": "61ad76a4"
   },
   "outputs": [],
   "source": [
    "# Create a Snowpark DF from the pandas DF\n",
    "snowdf = session.createDataFrame(customers)"
   ]
  },
  {
   "cell_type": "code",
   "execution_count": 10,
   "id": "ba630389",
   "metadata": {
    "colab": {
     "base_uri": "https://localhost:8080/"
    },
    "id": "ba630389",
    "outputId": "b076a39e-91c7-4739-da74-1976f6fae42c"
   },
   "outputs": [
    {
     "name": "stdout",
     "output_type": "stream",
     "text": [
      "-----------------------------------------------------------------------------------------------------------------------------------------------------------------------------------\n",
      "|\"Email\"                    |\"Address\"                   |\"Avatar\"   |\"Avg. Session Length\"  |\"Time on App\"  |\"Time on Website\"  |\"Length of Membership\"  |\"Yearly Amount Spent\"  |\n",
      "-----------------------------------------------------------------------------------------------------------------------------------------------------------------------------------\n",
      "|mstephenson@fernandez.com  |835 Frank Tunnel            |Violet     |34.49726773            |12.65565115    |39.57766802        |4.082620633             |587.951054             |\n",
      "|                           |Wrightmouth, MI 82180-9605  |           |                       |               |                   |                        |                       |\n",
      "|hduke@hotmail.com          |4547 Archer Common          |DarkGreen  |31.92627203            |11.10946073    |37.26895887        |2.664034182             |392.2049334            |\n",
      "|                           |Diazchester, CA 06566-8576  |           |                       |               |                   |                        |                       |\n",
      "-----------------------------------------------------------------------------------------------------------------------------------------------------------------------------------\n",
      "\n"
     ]
    }
   ],
   "source": [
    "snowdf.show(2)"
   ]
  },
  {
   "cell_type": "code",
   "execution_count": 11,
   "id": "3a149d64",
   "metadata": {
    "colab": {
     "base_uri": "https://localhost:8080/"
    },
    "id": "3a149d64",
    "outputId": "ce6152bd-bf28-4626-b99f-5a4c964dc29e"
   },
   "outputs": [
    {
     "name": "stdout",
     "output_type": "stream",
     "text": [
      "---------------------------------------------------------------------------------------------------------------------------------------------------------------------------------------\n",
      "|\"Email\"                    |\"Address\"                       |\"Avatar\"   |\"Avg. Session Length\"  |\"Time on App\"  |\"Time on Website\"  |\"Length of Membership\"  |\"Yearly Amount Spent\"  |\n",
      "---------------------------------------------------------------------------------------------------------------------------------------------------------------------------------------\n",
      "|mstephenson@fernandez.com  |835 Frank Tunnel                |Violet     |34.49726773            |12.65565115    |39.57766802        |4.082620633             |587.951054             |\n",
      "|                           |Wrightmouth, MI 82180-9605      |           |                       |               |                   |                        |                       |\n",
      "|hduke@hotmail.com          |4547 Archer Common              |DarkGreen  |31.92627203            |11.10946073    |37.26895887        |2.664034182             |392.2049334            |\n",
      "|                           |Diazchester, CA 06566-8576      |           |                       |               |                   |                        |                       |\n",
      "|pallen@yahoo.com           |24645 Valerie Unions Suite 582  |Bisque     |33.00091476            |11.33027806    |37.11059744        |4.104543202             |487.5475049            |\n",
      "|                           |Cobbborough, DC 99414-7564      |           |                       |               |                   |                        |                       |\n",
      "---------------------------------------------------------------------------------------------------------------------------------------------------------------------------------------\n",
      "\n"
     ]
    }
   ],
   "source": [
    "# Loading customer data from Snowpark DF to a Snowflake internal table\n",
    "\n",
    "snowdf.write.mode(\"overwrite\").saveAsTable(\"customers_new\")\n",
    "\n",
    "session.table(\"CUSTOMERS_NEW\").limit(3).show(5)"
   ]
  },
  {
   "cell_type": "code",
   "execution_count": 12,
   "id": "c3f7fea1",
   "metadata": {
    "colab": {
     "base_uri": "https://localhost:8080/"
    },
    "id": "c3f7fea1",
    "outputId": "0faf29db-aa95-429c-ff8d-f608732e198e"
   },
   "outputs": [
    {
     "name": "stdout",
     "output_type": "stream",
     "text": [
      "'custdf' local dataframe created. Number of records: 500 \n"
     ]
    }
   ],
   "source": [
    "# Create a pandas data frame from the Snowflake table\n",
    "custdf = session.table('CUSTOMERS_NEW').toPandas()\n",
    "\n",
    "print(f\"'custdf' local dataframe created. Number of records: {len(custdf)} \")"
   ]
  },
  {
   "cell_type": "markdown",
   "id": "90dbcfa4",
   "metadata": {
    "id": "90dbcfa4"
   },
   "source": [
    "### Model Training & Testing"
   ]
  },
  {
   "cell_type": "code",
   "execution_count": 13,
   "id": "ef0ae769",
   "metadata": {
    "colab": {
     "base_uri": "https://localhost:8080/",
     "height": 923
    },
    "id": "ef0ae769",
    "outputId": "cddfbbc5-be56-4ab3-b320-8bb8f7cd0dcb"
   },
   "outputs": [
    {
     "data": {
      "image/png": "[encoded data removed]",
      "text/plain": [
       "<Figure size 1000x800 with 2 Axes>"
      ]
     },
     "metadata": {},
     "output_type": "display_data"
    }
   ],
   "source": [
    "# Start by understanding the correlation matrix for the new data frame\n",
    "# Filter out non-numeric columns\n",
    "numeric_cols = custdf.select_dtypes(include=[np.number])\n",
    "\n",
    "# Visualize the correlation heatmap\n",
    "f, ax = plt.subplots(figsize=(10, 8))\n",
    "ax.set_title('Encoded Correlation Heatmap for Used Vehicles Dataset', pad=12)\n",
    "sns.heatmap(numeric_cols.corr(), vmin=-1, vmax=1, annot=True, cmap='Spectral')\n",
    "plt.show()\n"
   ]
  },
  {
   "cell_type": "code",
   "execution_count": 14,
   "id": "3c0c19c9",
   "metadata": {
    "id": "3c0c19c9"
   },
   "outputs": [],
   "source": [
    "# Define X and Y for modeling\n",
    "X = custdf[['Avg. Session Length', 'Time on App',\n",
    "       'Time on Website', 'Length of Membership']]\n",
    "Y = custdf['Yearly Amount Spent']"
   ]
  },
  {
   "cell_type": "code",
   "execution_count": 15,
   "id": "5645b077",
   "metadata": {
    "id": "5645b077"
   },
   "outputs": [],
   "source": [
    "# Split into training & Testing datasets\n",
    "X_train, X_test, y_train, y_test = train_test_split(X, Y,\n",
    "                                 test_size=0.3, random_state=101)"
   ]
  },
  {
   "cell_type": "markdown",
   "id": "63ed02bd",
   "metadata": {
    "id": "63ed02bd"
   },
   "source": [
    "#### Linear Regression - Predict Yearly Spend"
   ]
  },
  {
   "cell_type": "code",
   "execution_count": 16,
   "id": "4f08591f",
   "metadata": {
    "colab": {
     "base_uri": "https://localhost:8080/",
     "height": 75
    },
    "id": "4f08591f",
    "outputId": "318c1593-4d27-4486-9604-3bed642c78c4"
   },
   "outputs": [
    {
     "data": {
      "text/html": [
       "<style>#sk-container-id-1 {color: black;background-color: white;}#sk-container-id-1 pre{padding: 0;}#sk-container-id-1 div.sk-toggleable {background-color: white;}#sk-container-id-1 label.sk-toggleable__label {cursor: pointer;display: block;width: 100%;margin-bottom: 0;padding: 0.3em;box-sizing: border-box;text-align: center;}#sk-container-id-1 label.sk-toggleable__label-arrow:before {content: \"▸\";float: left;margin-right: 0.25em;color: #696969;}#sk-container-id-1 label.sk-toggleable__label-arrow:hover:before {color: black;}#sk-container-id-1 div.sk-estimator:hover label.sk-toggleable__label-arrow:before {color: black;}#sk-container-id-1 div.sk-toggleable__content {max-height: 0;max-width: 0;overflow: hidden;text-align: left;background-color: #f0f8ff;}#sk-container-id-1 div.sk-toggleable__content pre {margin: 0.2em;color: black;border-radius: 0.25em;background-color: #f0f8ff;}#sk-container-id-1 input.sk-toggleable__control:checked~div.sk-toggleable__content {max-height: 200px;max-width: 100%;overflow: auto;}#sk-container-id-1 input.sk-toggleable__control:checked~label.sk-toggleable__label-arrow:before {content: \"▾\";}#sk-container-id-1 div.sk-estimator input.sk-toggleable__control:checked~label.sk-toggleable__label {background-color: #d4ebff;}#sk-container-id-1 div.sk-label input.sk-toggleable__control:checked~label.sk-toggleable__label {background-color: #d4ebff;}#sk-container-id-1 input.sk-hidden--visually {border: 0;clip: rect(1px 1px 1px 1px);clip: rect(1px, 1px, 1px, 1px);height: 1px;margin: -1px;overflow: hidden;padding: 0;position: absolute;width: 1px;}#sk-container-id-1 div.sk-estimator {font-family: monospace;background-color: #f0f8ff;border: 1px dotted black;border-radius: 0.25em;box-sizing: border-box;margin-bottom: 0.5em;}#sk-container-id-1 div.sk-estimator:hover {background-color: #d4ebff;}#sk-container-id-1 div.sk-parallel-item::after {content: \"\";width: 100%;border-bottom: 1px solid gray;flex-grow: 1;}#sk-container-id-1 div.sk-label:hover label.sk-toggleable__label {background-color: #d4ebff;}#sk-container-id-1 div.sk-serial::before {content: \"\";position: absolute;border-left: 1px solid gray;box-sizing: border-box;top: 0;bottom: 0;left: 50%;z-index: 0;}#sk-container-id-1 div.sk-serial {display: flex;flex-direction: column;align-items: center;background-color: white;padding-right: 0.2em;padding-left: 0.2em;position: relative;}#sk-container-id-1 div.sk-item {position: relative;z-index: 1;}#sk-container-id-1 div.sk-parallel {display: flex;align-items: stretch;justify-content: center;background-color: white;position: relative;}#sk-container-id-1 div.sk-item::before, #sk-container-id-1 div.sk-parallel-item::before {content: \"\";position: absolute;border-left: 1px solid gray;box-sizing: border-box;top: 0;bottom: 0;left: 50%;z-index: -1;}#sk-container-id-1 div.sk-parallel-item {display: flex;flex-direction: column;z-index: 1;position: relative;background-color: white;}#sk-container-id-1 div.sk-parallel-item:first-child::after {align-self: flex-end;width: 50%;}#sk-container-id-1 div.sk-parallel-item:last-child::after {align-self: flex-start;width: 50%;}#sk-container-id-1 div.sk-parallel-item:only-child::after {width: 0;}#sk-container-id-1 div.sk-dashed-wrapped {border: 1px dashed gray;margin: 0 0.4em 0.5em 0.4em;box-sizing: border-box;padding-bottom: 0.4em;background-color: white;}#sk-container-id-1 div.sk-label label {font-family: monospace;font-weight: bold;display: inline-block;line-height: 1.2em;}#sk-container-id-1 div.sk-label-container {text-align: center;}#sk-container-id-1 div.sk-container {/* jupyter's `normalize.less` sets `[hidden] { display: none; }` but bootstrap.min.css set `[hidden] { display: none !important; }` so we also need the `!important` here to be able to override the default hidden behavior on the sphinx rendered scikit-learn.org. See: https://github.com/scikit-learn/scikit-learn/issues/21755 */display: inline-block !important;position: relative;}#sk-container-id-1 div.sk-text-repr-fallback {display: none;}</style><div id=\"sk-container-id-1\" class=\"sk-top-container\"><div class=\"sk-text-repr-fallback\"><pre>RandomForestRegressor()</pre><b>In a Jupyter environment, please rerun this cell to show the HTML representation or trust the notebook. <br />On GitHub, the HTML representation is unable to render, please try loading this page with nbviewer.org.</b></div><div class=\"sk-container\" hidden><div class=\"sk-item\"><div class=\"sk-estimator sk-toggleable\"><input class=\"sk-toggleable__control sk-hidden--visually\" id=\"sk-estimator-id-1\" type=\"checkbox\" checked><label for=\"sk-estimator-id-1\" class=\"sk-toggleable__label sk-toggleable__label-arrow\">RandomForestRegressor</label><div class=\"sk-toggleable__content\"><pre>RandomForestRegressor()</pre></div></div></div></div></div>"
      ],
      "text/plain": [
       "RandomForestRegressor()"
      ]
     },
     "execution_count": 16,
     "metadata": {},
     "output_type": "execute_result"
    }
   ],
   "source": [
    "# Create an instance of Linear Regression and Fit the training datasets\n",
    "rf = RandomForestRegressor()\n",
    "rf.fit(X_train,y_train)"
   ]
  },
  {
   "cell_type": "code",
   "execution_count": 17,
   "id": "25025810",
   "metadata": {
    "id": "25025810"
   },
   "outputs": [],
   "source": [
    "# Creating a User Defined Function within Snowflake to do the scoring there\n",
    "def predict_pandas_udf(df: pd.DataFrame) -> pd.Series:\n",
    "    return pd.Series(rf.predict(df))\n",
    "\n",
    "linear_model_vec = pandas_udf(func=predict_pandas_udf,\n",
    "                                return_type=FloatType(),\n",
    "                                input_types=[FloatType(),FloatType(),FloatType(),FloatType()],\n",
    "                                session=session,\n",
    "                                packages = (\"pandas\",\"scikit-learn==1.2.2\"), max_batch_size=200)"
   ]
  },
  {
   "cell_type": "code",
   "execution_count": 18,
   "id": "6132216f",
   "metadata": {
    "colab": {
     "base_uri": "https://localhost:8080/"
    },
    "id": "6132216f",
    "outputId": "f222ab58-5abb-4cdd-93ae-bd0bf25a7881"
   },
   "outputs": [
    {
     "name": "stderr",
     "output_type": "stream",
     "text": [
      "Passing arguments to a UDF with a list or tuple is deprecated. We still respect this invocation but please consider passing variable-length arguments without a list or tuple.\n"
     ]
    },
    {
     "name": "stdout",
     "output_type": "stream",
     "text": [
      "---------------------------------------------------------------------------------------------------------------------------\n",
      "|\"Avg. Session Length\"  |\"Time on App\"  |\"Time on Website\"  |\"Length of Membership\"  |\"PREDICTED_SPEND\"  |\"ACTUAL_SPEND\"  |\n",
      "---------------------------------------------------------------------------------------------------------------------------\n",
      "|34.49726773            |12.65565115    |39.57766802        |4.082620633             |589.0188210379994  |587.951054      |\n",
      "|31.92627203            |11.10946073    |37.26895887        |2.664034182             |392.8676576719999  |392.2049334     |\n",
      "|33.00091476            |11.33027806    |37.11059744        |4.104543202             |509.5345309879998  |487.5475049     |\n",
      "|34.30555663            |13.71751367    |36.72128268        |3.120178783             |572.3114591649994  |581.852344      |\n",
      "|33.33067252            |12.79518855    |37.5366533         |4.446308318             |591.3603678100002  |599.406092      |\n",
      "---------------------------------------------------------------------------------------------------------------------------\n",
      "\n"
     ]
    }
   ],
   "source": [
    "# Calling the UDF to do the scoring (pushing down to Snowflake)\n",
    "output = session.table('CUSTOMERS_NEW').select(*list(X.columns),\n",
    "                    linear_model_vec(list(X.columns)).alias('PREDICTED_SPEND'),\n",
    "                    (F.col('Yearly Amount Spent')).alias('ACTUAL_SPEND')\n",
    "                    )\n",
    "\n",
    "output.show(5)"
   ]
  },
  {
   "cell_type": "code",
   "execution_count": null,
   "id": "99332d94",
   "metadata": {
    "id": "99332d94"
   },
   "outputs": [],
   "source": [
    "# Save the predicted output as a table on Snowflake\n",
    "###used later in Streamlit app\n",
    "output.write.mode(\"overwrite\").saveAsTable(\"PREDICTED_CUSTOMER_SPEND\")\n",
    "\n",
    "# Also get a local dataframe to review the results\n",
    "output=output.toPandas()"
   ]
  },
  {
   "cell_type": "markdown",
   "id": "914c6f63",
   "metadata": {
    "id": "914c6f63"
   },
   "source": [
    "##### Plotting and comparing the predicted values with actual spend values"
   ]
  },
  {
   "cell_type": "code",
   "execution_count": null,
   "id": "e1229eb9",
   "metadata": {
    "colab": {
     "base_uri": "https://localhost:8080/",
     "height": 632
    },
    "id": "e1229eb9",
    "outputId": "2780d02b-7a56-4d87-a6c9-8d689eb4f214"
   },
   "outputs": [],
   "source": [
    "# Plot a descriptive scatter of predicted and actual values\n",
    "x = output.index\n",
    "y1 = output[\"ACTUAL_SPEND\"]\n",
    "y2 = output[\"PREDICTED_SPEND\"]\n",
    "\n",
    "f, ax = plt.subplots(figsize=(14, 8))\n",
    "plt.scatter(x, y1, c='tab:blue', s=y1/5)\n",
    "plt.scatter(x, y2, c='tab:red', s=y2/20)\n",
    "\n",
    "plt.title(f\"Actual Spend vs Predicted Spend - Linear Regression\")\n",
    "plt.ylabel(\"ACTUAL + PREDICTED SPEND\")\n",
    "plt.xlabel(\"CUSTOMER IDs\")\n",
    "ax.grid(True)\n",
    "plt.show()"
   ]
  },
  {
   "cell_type": "markdown",
   "id": "29ff0cea",
   "metadata": {
    "id": "29ff0cea"
   },
   "source": [
    "*To start with, define a function for regression metrics*\n",
    "\n",
    "1. R² measures how much variability in dependent variable can be \"explained by the model.\n",
    "2. While R² is a relative measure of how well the model fits dependent variables, Mean Square Error is an absolute measure of the goodness for the fit.\n",
    "3. Mean Absolute Error(MAE) is similar to MSE, however, unlike MSE, MAE takes the sum of the ABSOLUTE value of error.\n",
    "\n",
    "*[Regression Merics Reference](https://towardsdatascience.com/regression-an-explanation-of-regression-metrics-and-what-can-go-wrong-a39a9793d914)*"
   ]
  },
  {
   "cell_type": "code",
   "execution_count": null,
   "id": "70abc4a5",
   "metadata": {
    "colab": {
     "base_uri": "https://localhost:8080/"
    },
    "id": "70abc4a5",
    "outputId": "4e1251c8-3587-4cb6-b3f4-4fc0e8627980"
   },
   "outputs": [],
   "source": [
    "#1 & 2 Coefficient of Determination (R² & Adjusted R²)\n",
    "print(\"\\n--- Coefficient of Determination (R²) ---\")\n",
    "r2 = metrics.r2_score(y_pred=y2, y_true=y1)\n",
    "print(f\"R²: {round(r2, 2)}\")\n",
    "\n",
    "#3 & 4. MSE and RMSE\n",
    "print(\"\\n--- Mean Squared Error (MSE & RMSE) ---\")\n",
    "\n",
    "mse = metrics.mean_squared_error(y_pred=y2, y_true=y1, squared=True)\n",
    "rmse = metrics.mean_squared_error(y_pred=y2, y_true=y1, squared=False)\n",
    "\n",
    "print(f\"MSE: {round(mse, 2)}\")\n",
    "print(f\"RMSE: {round(rmse, 2)}\")\n",
    "\n",
    "\n",
    "#5. MAE\n",
    "print(\"\\n--- Mean Absolute Error (MAE) ---\")\n",
    "mae = metrics.mean_absolute_error(y_pred=y2, y_true=y1)\n",
    "print(f\"MAE: {round(mae, 2)}\")"
   ]
  },
  {
   "cell_type": "code",
   "execution_count": null,
   "id": "c996c153",
   "metadata": {
    "colab": {
     "base_uri": "https://localhost:8080/",
     "height": 522
    },
    "id": "c996c153",
    "outputId": "12b1accd-fadf-42b5-c6b3-b5848b1b2228"
   },
   "outputs": [],
   "source": [
    "# Distribution of differences between actual and predicted values\n",
    "# Gaussian kernel density estimate.\n",
    "\n",
    "sns.displot((y2-y1),bins=50, kde=True, legend=True, height=6, aspect=2);"
   ]
  },
  {
   "cell_type": "code",
   "execution_count": null,
   "id": "b1909564",
   "metadata": {
    "colab": {
     "base_uri": "https://localhost:8080/",
     "height": 175
    },
    "id": "b1909564",
    "outputId": "8eff08ad-1e7b-4b82-ed9c-8554888e7dc2"
   },
   "outputs": [],
   "source": [
    "# Get coefficients from the fitted model\n",
    "coeff_df = pd.DataFrame(rf.feature_importances_,X.columns,columns=['Feature Importance']).round(2)\n",
    "coeff_df"
   ]
  },
  {
   "cell_type": "markdown",
   "id": "a069e936",
   "metadata": {
    "id": "a069e936"
   },
   "source": [
    "### Conclusion\n",
    "Time spent on the app and Length of Membership are most important factors driving customer spend. The retailer should focus its efforts on increasing stickiness to its app and enhance its loyalty programs."
   ]
  },
  {
   "cell_type": "code",
   "execution_count": null,
   "id": "We2QrGo8WyLR",
   "metadata": {
    "colab": {
     "base_uri": "https://localhost:8080/"
    },
    "id": "We2QrGo8WyLR",
    "outputId": "7594790a-591f-4525-c160-d626f7c5b7aa"
   },
   "outputs": [],
   "source": [
    "import joblib  # Import joblib\n",
    "# ... (your model training code) ...\n",
    "\n",
    "# Save the trained model to a file\n",
    "joblib.dump(rf, 'Random_Forest_model_with_snowpark.pkl')"
   ]
  }
 ],
 "metadata": {
  "colab": {
   "provenance": []
  },
  "kernelspec": {
   "display_name": "Snowpark DE ML",
   "language": "python",
   "name": "snowpark-de-ml"
  },
  "language_info": {
   "codemirror_mode": {
    "name": "ipython",
    "version": 3
   },
   "file_extension": ".py",
   "mimetype": "text/x-python",
   "name": "python",
   "nbconvert_exporter": "python",
   "pygments_lexer": "ipython3",
   "version": "3.9.18"
  },
  "vscode": {
   "interpreter": {
    "hash": "8f3939231f85b66825af0f25c3ebfcf7e3d00e5843c3b078ed5a90a7c9ac532f"
   }
  }
 },
 "nbformat": 4,
 "nbformat_minor": 5
}
